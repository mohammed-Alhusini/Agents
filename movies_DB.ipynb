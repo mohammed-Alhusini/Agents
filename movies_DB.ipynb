{
 "cells": [
  {
   "cell_type": "code",
   "execution_count": 9,
   "metadata": {},
   "outputs": [],
   "source": [
    "import requests\n",
    "from bs4 import BeautifulSoup\n",
    "import pandas as pd \n",
    "import csv"
   ]
  },
  {
   "cell_type": "markdown",
   "metadata": {},
   "source": [
    "# now showing\n"
   ]
  },
  {
   "cell_type": "code",
   "execution_count": 10,
   "metadata": {},
   "outputs": [
    {
     "name": "stdout",
     "output_type": "stream",
     "text": [
      "200\n"
     ]
    }
   ],
   "source": [
    "url = 'https://ksa.voxcinemas.com/movies/whatson'\n",
    "response = requests.get(url)\n",
    "print(response.status_code)"
   ]
  },
  {
   "cell_type": "code",
   "execution_count": 11,
   "metadata": {},
   "outputs": [],
   "source": [
    "vox_cinemas = BeautifulSoup(response.content, 'html.parser')"
   ]
  },
  {
   "cell_type": "code",
   "execution_count": 12,
   "metadata": {},
   "outputs": [],
   "source": [
    "base_url = 'https://ksa.voxcinemas.com/movies/'"
   ]
  },
  {
   "cell_type": "code",
   "execution_count": 13,
   "metadata": {},
   "outputs": [],
   "source": [
    "def get_movie_info(movie_name):\n",
    "        new_url = base_url + movie_name.replace(' ','-')\n",
    "        return new_url"
   ]
  },
  {
   "cell_type": "code",
   "execution_count": 14,
   "metadata": {},
   "outputs": [],
   "source": [
    "def get_movie_info_lang(movie_name, language):\n",
    "    url = get_movie_info(movie_name)\n",
    "    new_url = url + '-' + language.lower()\n",
    "    return new_url\n"
   ]
  },
  {
   "cell_type": "code",
   "execution_count": 15,
   "metadata": {},
   "outputs": [],
   "source": [
    "now_showing_urls = []\n",
    "now_showing_titles = []\n",
    "url_title_now_showing = []"
   ]
  },
  {
   "cell_type": "code",
   "execution_count": 16,
   "metadata": {},
   "outputs": [],
   "source": [
    "all_Genre = []\n",
    "all_descriptions = []\n",
    "all_Release_Date = []\n",
    "all_Starring = []\n",
    "all_languages = []"
   ]
  },
  {
   "cell_type": "code",
   "execution_count": 17,
   "metadata": {},
   "outputs": [
    {
     "ename": "NameError",
     "evalue": "name 'get_movie_title' is not defined",
     "output_type": "error",
     "traceback": [
      "\u001b[0;31m---------------------------------------------------------------------------\u001b[0m",
      "\u001b[0;31mNameError\u001b[0m                                 Traceback (most recent call last)",
      "Cell \u001b[0;32mIn[17], line 3\u001b[0m\n\u001b[1;32m      1\u001b[0m \u001b[38;5;28;01mfor\u001b[39;00m i \u001b[38;5;129;01min\u001b[39;00m \u001b[38;5;28mrange\u001b[39m(\u001b[38;5;28mlen\u001b[39m(vox_cinemas\u001b[38;5;241m.\u001b[39mfind(\u001b[38;5;124m'\u001b[39m\u001b[38;5;124msection\u001b[39m\u001b[38;5;124m'\u001b[39m,class_ \u001b[38;5;241m=\u001b[39m \u001b[38;5;124m'\u001b[39m\u001b[38;5;124mnow-showing\u001b[39m\u001b[38;5;124m'\u001b[39m)\u001b[38;5;241m.\u001b[39mfind_all(\u001b[38;5;124m'\u001b[39m\u001b[38;5;124marticle\u001b[39m\u001b[38;5;124m'\u001b[39m))):\n\u001b[1;32m      2\u001b[0m     url_title_now_showing\u001b[38;5;241m.\u001b[39mappend((vox_cinemas\u001b[38;5;241m.\u001b[39mfind(\u001b[38;5;124m'\u001b[39m\u001b[38;5;124msection\u001b[39m\u001b[38;5;124m'\u001b[39m,class_ \u001b[38;5;241m=\u001b[39m \u001b[38;5;124m'\u001b[39m\u001b[38;5;124mnow-showing\u001b[39m\u001b[38;5;124m'\u001b[39m)\u001b[38;5;241m.\u001b[39mfind_all(\u001b[38;5;124m'\u001b[39m\u001b[38;5;124marticle\u001b[39m\u001b[38;5;124m'\u001b[39m)[i]\u001b[38;5;241m.\u001b[39mfind(\u001b[38;5;124m'\u001b[39m\u001b[38;5;124mh3\u001b[39m\u001b[38;5;124m'\u001b[39m)\u001b[38;5;241m.\u001b[39ma[\u001b[38;5;124m'\u001b[39m\u001b[38;5;124mhref\u001b[39m\u001b[38;5;124m'\u001b[39m]))\n\u001b[0;32m----> 3\u001b[0m     now_showing_urls\u001b[38;5;241m.\u001b[39mappend(base_url\u001b[38;5;241m+\u001b[39m(get_movie_title(url_title_now_showing[i])))\n\u001b[1;32m      4\u001b[0m     now_showing_titles\u001b[38;5;241m.\u001b[39mappend(get_movie_title(url_title_now_showing[i]))\n",
      "\u001b[0;31mNameError\u001b[0m: name 'get_movie_title' is not defined"
     ]
    }
   ],
   "source": [
    "for i in range(len(vox_cinemas.find('section',class_ = 'now-showing').find_all('article'))):\n",
    "    url_title_now_showing.append((vox_cinemas.find('section',class_ = 'now-showing').find_all('article')[i].find('h3').a['href']))\n",
    "    now_showing_urls.append(base_url+(get_movie_title(url_title_now_showing[i])))\n",
    "    now_showing_titles.append(get_movie_title(url_title_now_showing[i]))"
   ]
  },
  {
   "cell_type": "code",
   "execution_count": null,
   "metadata": {},
   "outputs": [
    {
     "name": "stdout",
     "output_type": "stream",
     "text": [
      "<Response [200]> https://ksa.voxcinemas.com/movies/twisters\n",
      "<Response [200]> https://ksa.voxcinemas.com/movies/longlegs\n",
      "<Response [200]> https://ksa.voxcinemas.com/movies/deadpool-and-wolverine\n",
      "<Response [200]> https://ksa.voxcinemas.com/movies/ex-merati-arabic\n",
      "<Response [200]> https://ksa.voxcinemas.com/movies/gawaza-toxic-arabic\n",
      "<Response [200]> https://ksa.voxcinemas.com/movies/despicable-me-4\n",
      "<Response [200]> https://ksa.voxcinemas.com/movies/bad-boys-ride-or-die\n",
      "<Response [200]> https://ksa.voxcinemas.com/movies/welad-rizk-3-arabic\n",
      "<Response [200]> https://ksa.voxcinemas.com/movies/inside-out-2\n",
      "<Response [200]> https://ksa.voxcinemas.com/movies/bad-newz-hindi\n",
      "<Response [200]> https://ksa.voxcinemas.com/movies/fly-me-to-the-moon\n",
      "<Response [200]> https://ksa.voxcinemas.com/movies/ahl-el-kahf-arabic\n",
      "<Response [200]> https://ksa.voxcinemas.com/movies/a-quiet-place-day-one\n",
      "<Response [200]> https://ksa.voxcinemas.com/movies/the-adventure-of-paddington-summer-vacation\n",
      "<Response [200]> https://ksa.voxcinemas.com/movies/inspector-sun\n",
      "<Response [200]> https://ksa.voxcinemas.com/movies/esabet-el-max-arabic\n",
      "<Response [200]> https://ksa.voxcinemas.com/movies/the-last-breath\n",
      "<Response [200]> https://ksa.voxcinemas.com/movies/shabab-el-bomb-arabic\n",
      "<Response [200]> https://ksa.voxcinemas.com/movies/norah-arabic\n",
      "<Response [200]> https://ksa.voxcinemas.com/movies/despicable-me-4-arabic\n",
      "<Response [200]> https://ksa.voxcinemas.com/movies/al-eid-eiden-arabic\n",
      "<Response [200]> https://ksa.voxcinemas.com/movies/inside-out-2-arabic\n",
      "<Response [200]> https://ksa.voxcinemas.com/movies/arcadian\n",
      "<Response [200]> https://ksa.voxcinemas.com/movies/indian-2-tamil\n",
      "<Response [200]> https://ksa.voxcinemas.com/movies/hiding-saddam-hussien-arabic\n",
      "<Response [200]> https://ksa.voxcinemas.com/movies/idiyan-chandu-malayalam\n",
      "<Response [200]> https://ksa.voxcinemas.com/movies/haikyu-dumpster-battle-fan-screen-japanese\n",
      "<Response [200]> https://ksa.voxcinemas.com/movies/blackpink-world-tour-born-pink-korean\n",
      "<Response [200]> https://ksa.voxcinemas.com/movies/il-signore-arabic\n"
     ]
    }
   ],
   "source": [
    "for i in range(len(now_showing_urls)):\n",
    "    response = requests.get(now_showing_urls[i])\n",
    "    print(response, now_showing_urls[i])\n",
    "    if response.status_code == 200:\n",
    "        movie_info = BeautifulSoup(response.content, 'html.parser')\n",
    "        all_Genre.append(movie_info.find('aside').find_all('p')[0].text)\n",
    "        all_Release_Date.append(movie_info.find('aside').find_all('p')[2].text)\n",
    "        all_Starring.append(movie_info.find('aside').find_all('p')[3].text)\n",
    "        all_languages.append(movie_info.find('aside').find_all('p')[4].text)\n",
    "        all_descriptions.append(movie_info.find_all('p')[6].text)\n"
   ]
  },
  {
   "cell_type": "code",
   "execution_count": null,
   "metadata": {},
   "outputs": [
    {
     "data": {
      "text/plain": [
       "(29, 29, 29, 29, 29, 29)"
      ]
     },
     "execution_count": 123,
     "metadata": {},
     "output_type": "execute_result"
    }
   ],
   "source": [
    "len(all_Genre), len(all_Release_Date), len(all_Starring), len(all_languages), len(all_descriptions) ,len(now_showing_titles) "
   ]
  },
  {
   "cell_type": "code",
   "execution_count": null,
   "metadata": {},
   "outputs": [],
   "source": [
    "with open('movies_whats_on.csv', 'w', newline='') as file:\n",
    "    writer = csv.writer(file)\n",
    "    writer.writerow([\"Title\", \"Language\", \"Genre\", \"Release Date\", \"Starring\", \"Description\"])\n",
    "    for i in range(len(now_showing_titles)):\n",
    "        writer.writerow([now_showing_titles[i], all_languages[i], all_Genre[i], all_Release_Date[i], all_Starring[i], all_descriptions[i]])"
   ]
  },
  {
   "cell_type": "code",
   "execution_count": null,
   "metadata": {},
   "outputs": [
    {
     "name": "stdout",
     "output_type": "stream",
     "text": [
      "                                          Title                      Language  \\\n",
      "0                                      twisters             Language: English   \n",
      "1                                      longlegs             Language: English   \n",
      "2                        deadpool-and-wolverine           Subtitle(s): Arabic   \n",
      "3                              ex-merati-arabic          Subtitle(s): English   \n",
      "4                           gawaza-toxic-arabic              Language: Arabic   \n",
      "5                               despicable-me-4             Language: English   \n",
      "6                          bad-boys-ride-or-die             Language: English   \n",
      "7                           welad-rizk-3-arabic              Language: Arabic   \n",
      "8                                  inside-out-2             Language: English   \n",
      "9                                bad-newz-hindi               Language: Hindi   \n",
      "10                           fly-me-to-the-moon             Language: English   \n",
      "11                           ahl-el-kahf-arabic              Language: Arabic   \n",
      "12                        a-quiet-place-day-one             Language: English   \n",
      "13  the-adventure-of-paddington-summer-vacation             Language: English   \n",
      "14                                inspector-sun             Language: English   \n",
      "15                         esabet-el-max-arabic              Language: Arabic   \n",
      "16                              the-last-breath             Language: English   \n",
      "17                        shabab-el-bomb-arabic              Language: Arabic   \n",
      "18                                 norah-arabic              Language: Arabic   \n",
      "19                       despicable-me-4-arabic              Language: Arabic   \n",
      "20                          al-eid-eiden-arabic              Language: Arabic   \n",
      "21                          inside-out-2-arabic              Language: Arabic   \n",
      "22                                     arcadian             Language: English   \n",
      "23                               indian-2-tamil               Language: Tamil   \n",
      "24                 hiding-saddam-hussien-arabic              Language: Arabic   \n",
      "25                      idiyan-chandu-malayalam           Language: Malayalam   \n",
      "26   haikyu-dumpster-battle-fan-screen-japanese  Subtitle(s): Arabic, English   \n",
      "27        blackpink-world-tour-born-pink-korean  Subtitle(s): Arabic, Englush   \n",
      "28                            il-signore-arabic          Subtitle(s): English   \n",
      "\n",
      "                 Genre                                       Release Date  \\\n",
      "0        Genre: Action                         Release Date: 17 July 2024   \n",
      "1        Genre: Horror                         Release Date: 18 July 2024   \n",
      "2        Genre: Action  Starring: Ryan Reynolds, Morena Baccarin, Hugh...   \n",
      "3        Genre: Comedy  Starring: Mohamed Mamdouh, Amina Khalil, Hesha...   \n",
      "4        Genre: Comedy                         Release Date: 04 July 2024   \n",
      "5        Genre: Action                         Release Date: 04 July 2024   \n",
      "6        Genre: Action                         Release Date: 06 June 2024   \n",
      "7        Genre: Comedy                         Release Date: 13 June 2024   \n",
      "8     Genre: Animation                         Release Date: 13 June 2024   \n",
      "9        Genre: Comedy                         Release Date: 19 July 2024   \n",
      "10       Genre: Comedy                         Release Date: 11 July 2024   \n",
      "11     Genre: Thriller                         Release Date: 18 July 2024   \n",
      "12        Genre: Drama                         Release Date: 27 June 2024   \n",
      "13    Genre: Animation                         Release Date: 18 July 2024   \n",
      "14    Genre: Animation                         Release Date: 18 July 2024   \n",
      "15       Genre: Comedy                         Release Date: 04 July 2024   \n",
      "16       Genre: Horror                         Release Date: 11 July 2024   \n",
      "17       Genre: Comedy                        Release Date: 11 April 2024   \n",
      "18        Genre: Drama                         Release Date: 20 June 2024   \n",
      "19       Genre: Action                         Release Date: 04 July 2024   \n",
      "20       Genre: Comedy                         Release Date: 11 July 2024   \n",
      "21    Genre: Animation                         Release Date: 13 June 2024   \n",
      "22       Genre: Action                         Release Date: 11 July 2024   \n",
      "23       Genre: Action                         Release Date: 12 July 2024   \n",
      "24  Genre: Documentary                         Release Date: 18 July 2024   \n",
      "25       Genre: Action                         Release Date: 19 July 2024   \n",
      "26    Genre: Animation  Starring: Yûki Kaji, Ayumu Murase, Kaito Ishikawa   \n",
      "27      Genre: Musical        Starring: Jisoo ,, Jennie ,, Lisa ,, Rosé ,   \n",
      "28       Genre: Comedy  Starring: Bayoumi Fouad, Yasir Al Saggaf, Moha...   \n",
      "\n",
      "                                             Starring  \\\n",
      "0   Starring: Anthony Ramos, Glen Powell, Daisy Ed...   \n",
      "1   Starring: Nicolas Cage, Maika Monroe, Blair Un...   \n",
      "2                                   Language: English   \n",
      "3                                    Language: Arabic   \n",
      "4   Starring: Layla Eloui, Bayoumi Fouad, Mohamad ...   \n",
      "5   Starring: Kristen Wiig, Steve Carell, Pierre C...   \n",
      "6   Starring: Vanessa Hudgens, Martin Lawrence, Wi...   \n",
      "7   Starring: Ahmed Ezz, Asser Yassine, Sayed Raga...   \n",
      "8   Starring: Amy Poehler, Phyllis Smith, Lewis Black   \n",
      "9    Starring: Tripti Dimri, Ammy Virk, Vicky Kaushal   \n",
      "10  Starring: Scarlett Johansson, Channing Tatum, ...   \n",
      "11              Starring: Mohamed Mamdouh, Ghada Adel   \n",
      "12  Starring: Alex Wolff, Lupita Nyong’o, Joseph Q...   \n",
      "13  Starring: Ben Whishaw, Bobby Beynon, Teresa Ga...   \n",
      "14  Starring: Jesús Barreda, Andrea Villaverde, Ca...   \n",
      "15  Starring: Lebleba ,, Ruby ., Hatem Salah, Ahma...   \n",
      "16    Starring: Julian Sands, Kim Spearman, Jack Parr   \n",
      "17                           Starring: Faisal Al Essa   \n",
      "18  Starring: Maria Bahrawi, Abdullah Al-Sadhan, Y...   \n",
      "19  Starring: Kristen Wiig, Steve Carell, Pierre C...   \n",
      "20  Starring: Shadi Alfons, Fahad Albutairi, Meera...   \n",
      "21                         Starring: Mariam Al Khosht   \n",
      "22  Starring: Nicolas Cage, Jaeden Martell, Sadie ...   \n",
      "23  Starring: Kamal Haasan, Priya Bhavani Shankar,...   \n",
      "24     Starring: Yassin Hamad Amin, Saidulla Faizulla   \n",
      "25  Starring: Vishnu Unnikrishnan, Lena ,, Chandu ...   \n",
      "26                                 Language: Japanese   \n",
      "27                                   Language: Korean   \n",
      "28                                   Language: Arabic   \n",
      "\n",
      "                                          Description  \n",
      "0                                 Subtitle(s): Arabic  \n",
      "1                                 Subtitle(s): Arabic  \n",
      "2   Wolverine is recovering from his injuries when...  \n",
      "3   Taha, a dangerous ex-convict, is set free from...  \n",
      "4   Karim and Farida are about to get married. Wor...  \n",
      "5                                 Subtitle(s): Arabic  \n",
      "6                                 Subtitle(s): Arabic  \n",
      "7   The lions are back and living their dream of r...  \n",
      "8                                 Subtitle(s): Arabic  \n",
      "9                        Subtitle(s): Arabic, English  \n",
      "10                                Subtitle(s): Arabic  \n",
      "11  The epic tale of three people who wake up from...  \n",
      "12                                Subtitle(s): Arabic  \n",
      "13                       Subtitle(s): Arabic, English  \n",
      "14                                Subtitle(s): Arabic  \n",
      "15  El Maxiky is accustomed to carrying out theft ...  \n",
      "16                                Subtitle(s): Arabic  \n",
      "17  In a world of wealth and power, Amer strikes a...  \n",
      "18  Set in a small remote Saudi Arabian village in...  \n",
      "19                               Subtitle(s): Engilsh  \n",
      "20                               Subtitle(s): English  \n",
      "21                               Subtitle(s): English  \n",
      "22                                Subtitle(s): Arabic  \n",
      "23                       Subtitle(s): Arabic, Enlgish  \n",
      "24  A simple Iraqi farmer who gets an unexpected g...  \n",
      "25                       Subtitle(s): Arabic, English  \n",
      "26  Despite a strong field, the Karasuno High voll...  \n",
      "27  BLACKPINK’s BORN PINK tour that captivated the...  \n",
      "28  Salem, a Saudi engineer, pretends to be an Ita...  \n"
     ]
    }
   ],
   "source": [
    "df_whats_on = pd.read_csv('movies_whats_on.csv')\n",
    "print(df_whats_on)"
   ]
  },
  {
   "cell_type": "markdown",
   "metadata": {},
   "source": [
    "# coming soon"
   ]
  },
  {
   "cell_type": "code",
   "execution_count": null,
   "metadata": {},
   "outputs": [
    {
     "name": "stdout",
     "output_type": "stream",
     "text": [
      "200 https://ksa.voxcinemas.com/movies/comingsoon\n"
     ]
    }
   ],
   "source": [
    "url_comingsoon = 'https://ksa.voxcinemas.com/movies/comingsoon'\n",
    "base_url = base_url\n",
    "response_comingsoon= requests.get(url_comingsoon)\n",
    "print(response_comingsoon.status_code,url_comingsoon)\n",
    "vox_cinemas_comingsoon = BeautifulSoup(response_comingsoon.content, 'html.parser')"
   ]
  },
  {
   "cell_type": "code",
   "execution_count": null,
   "metadata": {},
   "outputs": [],
   "source": [
    "def get_movie_title(string):\n",
    "    return string.split('/movies/')[1]"
   ]
  },
  {
   "cell_type": "code",
   "execution_count": null,
   "metadata": {},
   "outputs": [],
   "source": [
    "all_Genre_coming_soon = []\n",
    "all_descriptions_coming_soon = []\n",
    "all_Release_Date_coming_soon = []\n",
    "all_languages_coming_soon = []\n",
    "all_Starring_coming_soon = []\n",
    "url_title = []\n",
    "coming_soon_urls = []\n",
    "coming_soon_titles = []"
   ]
  },
  {
   "cell_type": "code",
   "execution_count": null,
   "metadata": {},
   "outputs": [],
   "source": [
    "for i in range(len(vox_cinemas_comingsoon.find('section',class_ = 'coming-soon').find_all('article'))):\n",
    "    url_title.append((vox_cinemas_comingsoon.find('section',class_ = 'coming-soon').find_all('article')[i].find('h3').a['href']))\n",
    "    coming_soon_urls.append(base_url+(get_movie_title(url_title[i])))\n",
    "    coming_soon_titles.append(get_movie_title(url_title[i]))"
   ]
  },
  {
   "cell_type": "code",
   "execution_count": null,
   "metadata": {},
   "outputs": [
    {
     "name": "stdout",
     "output_type": "stream",
     "text": [
      "<Response [200]> https://ksa.voxcinemas.com/movies/deadpool-and-wolverine\n",
      "<Response [200]> https://ksa.voxcinemas.com/movies/return\n",
      "<Response [200]> https://ksa.voxcinemas.com/movies/the-secret-of-hoo-hoo-island\n",
      "<Response [200]> https://ksa.voxcinemas.com/movies/blind-waters\n",
      "<Response [200]> https://ksa.voxcinemas.com/movies/inshallah-boy-arabic\n",
      "<Response [200]> https://ksa.voxcinemas.com/movies/raayan-tamil\n",
      "<Response [200]> https://ksa.voxcinemas.com/movies/level-cross-malayalam\n",
      "<Response [200]> https://ksa.voxcinemas.com/movies/haikyu-dumpster-battle-fan-screen-japanese\n",
      "<Response [200]> https://ksa.voxcinemas.com/movies/blackpink-world-tour-born-pink-korean\n",
      "<Response [200]> https://ksa.voxcinemas.com/movies/harold-and-the-purple-crayon\n",
      "<Response [200]> https://ksa.voxcinemas.com/movies/chief-of-station\n",
      "<Response [200]> https://ksa.voxcinemas.com/movies/trap\n",
      "<Response [200]> https://ksa.voxcinemas.com/movies/auron-mein-kahan-dum-tha-hindi\n",
      "<Response [200]> https://ksa.voxcinemas.com/movies/haikyu-the-dumpster-battle-japanese\n",
      "<Response [200]> https://ksa.voxcinemas.com/movies/cobweb-korean\n",
      "<Response [200]> https://ksa.voxcinemas.com/movies/ex-merati-arabic\n",
      "<Response [200]> https://ksa.voxcinemas.com/movies/late-night-with-the-devil\n",
      "<Response [200]> https://ksa.voxcinemas.com/movies/oddity\n",
      "<Response [200]> https://ksa.voxcinemas.com/movies/il-signore-arabic\n",
      "<Response [200]> https://ksa.voxcinemas.com/movies/adios-amigo-malayalam\n",
      "<Response [200]> https://ksa.voxcinemas.com/movies/borderlands\n",
      "<Response [200]> https://ksa.voxcinemas.com/movies/cat-and-dog\n",
      "<Response [200]> https://ksa.voxcinemas.com/movies/it-ends-with-us\n",
      "<Response [200]> https://ksa.voxcinemas.com/movies/cinderellas-revenge\n",
      "<Response [200]> https://ksa.voxcinemas.com/movies/frozen-conspiracy\n",
      "<Response [200]> https://ksa.voxcinemas.com/movies/the-adventures-of-mannu\n",
      "<Response [200]> https://ksa.voxcinemas.com/movies/detained\n",
      "<Response [200]> https://ksa.voxcinemas.com/movies/hit-man\n",
      "<Response [200]> https://ksa.voxcinemas.com/movies/hunt-malayalam\n",
      "<Response [200]> https://ksa.voxcinemas.com/movies/i-am-kathalan-malayalam\n",
      "<Response [200]> https://ksa.voxcinemas.com/movies/alien-romulus\n",
      "<Response [200]> https://ksa.voxcinemas.com/movies/blink-twice\n",
      "<Response [200]> https://ksa.voxcinemas.com/movies/5lbs-of-pressure\n",
      "<Response [200]> https://ksa.voxcinemas.com/movies/the-wild-robot\n",
      "<Response [200]> https://ksa.voxcinemas.com/movies/smile-2\n",
      "<Response [200]> https://ksa.voxcinemas.com/movies/venom-the-last-dance\n",
      "<Response [200]> https://ksa.voxcinemas.com/movies/gladiator-ii\n",
      "<Response [200]> https://ksa.voxcinemas.com/movies/moana-2\n"
     ]
    }
   ],
   "source": [
    "for i in range(len(coming_soon_urls)):\n",
    "    response = requests.get(coming_soon_urls[i])\n",
    "    print(response, coming_soon_urls[i])\n",
    "    if response.status_code == 200:\n",
    "        movie_info = BeautifulSoup(response.content, 'html.parser')\n",
    "        all_Genre_coming_soon.append(movie_info.find('aside').find_all('p')[0].text)\n",
    "        all_Release_Date_coming_soon.append(movie_info.find('aside').find_all('p')[1].text)\n",
    "        all_Starring_coming_soon.append(movie_info.find('aside').find_all('p')[2].text)\n",
    "        all_languages_coming_soon.append(movie_info.find('aside').find_all('p')[3].text)\n",
    "        all_descriptions_coming_soon.append(movie_info.find_all('p')[5].text)"
   ]
  },
  {
   "cell_type": "code",
   "execution_count": null,
   "metadata": {},
   "outputs": [],
   "source": [
    "with open('movies_coming_soon.csv', 'w', newline='') as file:\n",
    "    writer = csv.writer(file)\n",
    "    writer.writerow([\"Title\", \"Language\",  \"Genre\", \"Release Date\", \"Starring\", \"Description\"])\n",
    "    for i in range(len(coming_soon_titles)):\n",
    "        writer.writerow([coming_soon_titles[i], all_languages_coming_soon[i],  all_Genre_coming_soon[i], all_Release_Date_coming_soon[i], all_Starring_coming_soon[i], all_descriptions_coming_soon[i]])"
   ]
  },
  {
   "cell_type": "code",
   "execution_count": null,
   "metadata": {},
   "outputs": [
    {
     "name": "stdout",
     "output_type": "stream",
     "text": [
      "                                         Title             Language  \\\n",
      "0                       deadpool-and-wolverine    Language: English   \n",
      "1                                       return    Language: English   \n",
      "2                 the-secret-of-hoo-hoo-island    Language: English   \n",
      "3                                 blind-waters    Language: English   \n",
      "4                         inshallah-boy-arabic     Language: Arabic   \n",
      "5                                 raayan-tamil      Language: Tamil   \n",
      "6                        level-cross-malayalam  Language: Malayalam   \n",
      "7   haikyu-dumpster-battle-fan-screen-japanese   Language: Japanese   \n",
      "8        blackpink-world-tour-born-pink-korean     Language: Korean   \n",
      "9                 harold-and-the-purple-crayon    Language: English   \n",
      "10                            chief-of-station    Language: English   \n",
      "11                                        trap    Language: English   \n",
      "12              auron-mein-kahan-dum-tha-hindi      Language: Hindi   \n",
      "13         haikyu-the-dumpster-battle-japanese   Language: Japanese   \n",
      "14                               cobweb-korean     Language: Korean   \n",
      "15                            ex-merati-arabic     Language: Arabic   \n",
      "16                   late-night-with-the-devil    Language: English   \n",
      "17                                      oddity    Language: English   \n",
      "18                           il-signore-arabic     Language: Arabic   \n",
      "19                       adios-amigo-malayalam  Language: Malayalam   \n",
      "20                                 borderlands    Language: English   \n",
      "21                                 cat-and-dog    Language: English   \n",
      "22                             it-ends-with-us    Language: English   \n",
      "23                         cinderellas-revenge    Language: English   \n",
      "24                           frozen-conspiracy    Language: English   \n",
      "25                     the-adventures-of-mannu    Language: English   \n",
      "26                                    detained    Language: English   \n",
      "27                                     hit-man    Language: English   \n",
      "28                              hunt-malayalam  Language: Malayalam   \n",
      "29                     i-am-kathalan-malayalam  Language: Malayalam   \n",
      "30                               alien-romulus    Language: English   \n",
      "31                                 blink-twice    Language: English   \n",
      "32                            5lbs-of-pressure    Language: English   \n",
      "33                              the-wild-robot    Language: English   \n",
      "34                                     smile-2    Language: English   \n",
      "35                        venom-the-last-dance    Language: English   \n",
      "36                                gladiator-ii    Language: English   \n",
      "37                                     moana-2    Language: English   \n",
      "\n",
      "               Genre                     Release Date  \\\n",
      "0      Genre: Action       Release Date: 25 July 2024   \n",
      "1   Genre: Animation       Release Date: 25 July 2024   \n",
      "2      Genre: Family       Release Date: 25 July 2024   \n",
      "3      Genre: Action       Release Date: 25 July 2024   \n",
      "4       Genre: Drama       Release Date: 25 July 2024   \n",
      "5      Genre: Action       Release Date: 26 July 2024   \n",
      "6    Genre: Thriller       Release Date: 26 July 2024   \n",
      "7   Genre: Animation       Release Date: 27 July 2024   \n",
      "8     Genre: Musical       Release Date: 31 July 2024   \n",
      "9   Genre: Animation     Release Date: 01 August 2024   \n",
      "10     Genre: Action     Release Date: 01 August 2024   \n",
      "11     Genre: Horror     Release Date: 01 August 2024   \n",
      "12      Genre: Drama     Release Date: 01 August 2024   \n",
      "13  Genre: Animation     Release Date: 01 August 2024   \n",
      "14     Genre: Comedy     Release Date: 01 August 2024   \n",
      "15     Genre: Comedy     Release Date: 01 August 2024   \n",
      "16     Genre: Horror     Release Date: 01 August 2024   \n",
      "17     Genre: Horror     Release Date: 01 August 2024   \n",
      "18     Genre: Comedy     Release Date: 01 August 2024   \n",
      "19     Genre: Comedy     Release Date: 02 August 2024   \n",
      "20     Genre: Action     Release Date: 08 August 2024   \n",
      "21  Genre: Animation     Release Date: 08 August 2024   \n",
      "22    Genre: Romance     Release Date: 08 August 2024   \n",
      "23     Genre: Horror     Release Date: 08 August 2024   \n",
      "24     Genre: Action     Release Date: 08 August 2024   \n",
      "25  Genre: Animation     Release Date: 08 August 2024   \n",
      "26   Genre: Thriller     Release Date: 08 August 2024   \n",
      "27     Genre: Comedy     Release Date: 08 August 2024   \n",
      "28   Genre: Thriller     Release Date: 09 August 2024   \n",
      "29     Genre: Comedy     Release Date: 09 August 2024   \n",
      "30     Genre: Horror     Release Date: 15 August 2024   \n",
      "31     Genre: Horror     Release Date: 22 August 2024   \n",
      "32     Genre: Action     Release Date: 29 August 2024   \n",
      "33  Genre: Animation  Release Date: 26 September 2024   \n",
      "34     Genre: Horror    Release Date: 17 October 2024   \n",
      "35     Genre: Action    Release Date: 24 October 2024   \n",
      "36     Genre: Action   Release Date: 14 November 2024   \n",
      "37  Genre: Animation   Release Date: 28 November 2024   \n",
      "\n",
      "                                             Starring  \\\n",
      "0   Starring: Ryan Reynolds, Morena Baccarin, Hugh...   \n",
      "1         Starring: Katie Leigh, Rick Zieff, Ratana .   \n",
      "2   Starring: James Michaelson, Kris Nathans, Ruby...   \n",
      "3   Starring: Meghan Carrasquillo, Noam Sigler, Fr...   \n",
      "4   Starring: Mouna Hawa, Haitham Alomari, Yumna M...   \n",
      "5       Starring: Prakash Raj, Dhanush ,, S.J. Suryah   \n",
      "6       Starring: Amala Paul, Asif Ali, Shrafudheen ,   \n",
      "7   Starring: Yûki Kaji, Ayumu Murase, Kaito Ishikawa   \n",
      "8         Starring: Jisoo ,, Jennie ,, Lisa ,, Rosé ,   \n",
      "9   Starring: Zachary Levi, Lil Rel Howery, Benjam...   \n",
      "10  Starring: Aaron Eckhart, Olga Kurylenko, Alex ...   \n",
      "11  Starring: Josh Hartnett, Ariel Donoghue, Salek...   \n",
      "12  Starring: Ajay Devgn, Tabu ., Jimmy Shergill, ...   \n",
      "13  Starring: Yûki Kaji, Ayumu Murase, Kaito Ishikawa   \n",
      "14  Starring: Song Kang-ho, Im Soo-jung, Oh Jung-s...   \n",
      "15  Starring: Mohamed Mamdouh, Amina Khalil, Hesha...   \n",
      "16  Starring: David Dastmalchian, Laura Gordon, Ia...   \n",
      "17  Starring: Tadhg Murphy, Gwilym Lee, Carolyn Br...   \n",
      "18  Starring: Bayoumi Fouad, Yasir Al Saggaf, Moha...   \n",
      "19  Starring: Asif Ali, Soubin Shahir, Venjaramoodu ,   \n",
      "20  Starring: Cate Blanchett, Jamie Lee Crutis, Ja...   \n",
      "21  Starring: Franck Dubosc, Philippe Lacheau, Ree...   \n",
      "22  Starring: Jenny Slate, Blake Lively, Justin Ba...   \n",
      "23  Starring: Natasha Henstridge, Lauren Staerck, ...   \n",
      "24  Starring: Lain Glen, Vivian Olafsdottir, Jack Fox   \n",
      "25  Starring: Charles Packard, Coleen Dorff, Henry...   \n",
      "26  Starring: Abbie Cornish, Laz Alonso, Moon Bloo...   \n",
      "27                Starring: Adria Arjona, Glen Powell   \n",
      "28  Starring: Bhavana ,, Renjipanikkar ,, Chandhun...   \n",
      "29  Starring: Naslen ,, Dileesh Pothen, Anishma An...   \n",
      "30  Starring: Cailee Spaeny, Isabela Merced, Archi...   \n",
      "31  Starring: Channing Tatum, Naomi Ackie, Alia Sh...   \n",
      "32  Starring: Luke Evans, Alex Pettyfer, Stephanie...   \n",
      "33  Starring: Pedro Pascal, Catherine O’Hara, Lupi...   \n",
      "34  Starring: Naomi Scott, Rosemarie DeWitt, Kyle ...   \n",
      "35                   Starring: Juno Temple, Tom Hardy   \n",
      "36  Starring: Pedro Pascal, Joseph Quinn, Paul Mes...   \n",
      "37  Starring: Dwayne Johnson, Alan Tudyk, Auli'i C...   \n",
      "\n",
      "                                          Description  \n",
      "0                                 Subtitle(s): Arabic  \n",
      "1   After twists and turns, the Young oryx Hardy r...  \n",
      "2   A group of friends go an adventure in the sear...  \n",
      "3   A deadly shark turns a couples dream vacation ...  \n",
      "4   A widow pretends to be pregnant with a son in ...  \n",
      "5   Raayan, a devoted caretaker of his siblings, r...  \n",
      "6   When a modern girl crosses paths with an unrul...  \n",
      "7                        Subtitle(s): Arabic, English  \n",
      "8                        Subtitle(s): Arabic, Englush  \n",
      "9   Inside of his book, adventurous Harold (Zachar...  \n",
      "10  After learning that the death of his wife was ...  \n",
      "11   A father and teen daughter attend a pop conce...  \n",
      "12  Auron Mein Kaha Dum Tha’, is an epic love stor...  \n",
      "13  Despite a strong field, the Karasuno High voll...  \n",
      "14  From the producers of PARASITE, comes the dark...  \n",
      "15                               Subtitle(s): English  \n",
      "16  October 31, 1977. Johnny Carson's rival Jack D...  \n",
      "17  Dani, a psychic and collector of cursed items,...  \n",
      "18                               Subtitle(s): English  \n",
      "19  No synopsis is currently available for this mo...  \n",
      "20  Lilith (Cate Blanchett), an infamous bounty hu...  \n",
      "21  MONICA is the owner of DIVA, a famous cat and ...  \n",
      "22  IT ENDS WITH US, the first Colleen Hoover nove...  \n",
      "23  Cinderella's wicked stepsisters and stepmother...  \n",
      "24  A lawyer is sucked into an international consp...  \n",
      "25  The adventurous story of the pet Koala “Mannu”...  \n",
      "26  A woman wakes up in a police interrogation roo...  \n",
      "27  Oscar-nominated director Richard Linklater's s...  \n",
      "28  Two fishermen discover a mysterious barrel wit...  \n",
      "29  \"How many servers would you hack for love?\" Wh...  \n",
      "30  While scavenging the deep ends of a derelict s...  \n",
      "31  When tech billionaire Slater King meets cockta...  \n",
      "32  In this gripping action-thriller, Adam (Luke E...  \n",
      "33  The epic adventure follows the journey of a ro...  \n",
      "34  About to embark on a new world tour, global po...  \n",
      "35  Eddie and Venom are on the run. Hunted by both...  \n",
      "36  Follows Lucius, the son of Maximus's love Luci...  \n",
      "37  After receiving an unexpected call from her wa...  \n"
     ]
    }
   ],
   "source": [
    "df_coming_soon = pd.read_csv('movies_coming_soon.csv')\n",
    "print(df_coming_soon)"
   ]
  },
  {
   "cell_type": "markdown",
   "metadata": {},
   "source": [
    "# imdb"
   ]
  },
  {
   "cell_type": "code",
   "execution_count": 22,
   "metadata": {},
   "outputs": [
    {
     "name": "stdout",
     "output_type": "stream",
     "text": [
      "200\n"
     ]
    }
   ],
   "source": [
    "imdb_url = 'https://www.imdb.com/find/?q='\n",
    "\n",
    "response = requests.get(url)\n",
    "print(response.status_code)\n",
    "imdb = BeautifulSoup(response.content, 'html.parser')"
   ]
  },
  {
   "cell_type": "code",
   "execution_count": 28,
   "metadata": {},
   "outputs": [],
   "source": [
    "def get_movie_url_imdb(movie_name):\n",
    "        new_url = imdb_url + movie_name.replace(' ','-')\n",
    "        return new_url"
   ]
  },
  {
   "cell_type": "code",
   "execution_count": 27,
   "metadata": {},
   "outputs": [
    {
     "data": {
      "text/plain": [
       "'https://www.imdb.com/find/?q=The-Green-Knight'"
      ]
     },
     "execution_count": 27,
     "metadata": {},
     "output_type": "execute_result"
    }
   ],
   "source": [
    "get_movie_url_imdb('The Green Knight')"
   ]
  },
  {
   "cell_type": "code",
   "execution_count": null,
   "metadata": {},
   "outputs": [],
   "source": [
    "def get_movie_info_imdb(movie_name):\n",
    "    url = get_movie_url_imdb(movie_name)\n",
    "    imdb.find\n",
    "    \n",
    "    \n",
    "    return new_url\n",
    "test"
   ]
  },
  {
   "cell_type": "code",
   "execution_count": 35,
   "metadata": {},
   "outputs": [
    {
     "name": "stdout",
     "output_type": "stream",
     "text": [
      "200\n"
     ]
    }
   ],
   "source": [
    "st = 'https://www.imdb.com/find/?q=The-Green-Knight'\n",
    "headers = {\n",
    "    \"User-Agent\": \"Mozilla/5.0 (Windows NT 10.0; Win64; x64) AppleWebKit/537.36 (KHTML, like Gecko) Chrome/90.0.4430.93 Safari/537.36\"\n",
    "}\n",
    "rero = requests.get(st,headers=headers)\n",
    "print(rero.status_code)\n",
    "test = BeautifulSoup(rero.content, 'html.parser')\n"
   ]
  },
  {
   "cell_type": "code",
   "execution_count": 88,
   "metadata": {},
   "outputs": [
    {
     "data": {
      "text/plain": [
       "'/title/tt9243804/?ref_=fn_al_tt_1'"
      ]
     },
     "execution_count": 88,
     "metadata": {},
     "output_type": "execute_result"
    }
   ],
   "source": [
    "test.find_all('ul')[11].a['href']"
   ]
  },
  {
   "cell_type": "code",
   "execution_count": 90,
   "metadata": {},
   "outputs": [
    {
     "data": {
      "text/plain": [
       "[<ul aria-orientation=\"vertical\" class=\"ipc-list navlinkcat__list ipc-list--baseAlt\" role=\"menu\"><a aria-disabled=\"false\" class=\"ipc-list__item nav-link sc-cOifbb dhnfmK ipc-list__item--indent-one\" href=\"https://www.imdb.com/calendar/?ref_=nv_mv_cal\" role=\"menuitem\" tabindex=\"-1\"><span class=\"ipc-list-item__text\" role=\"presentation\">Release Calendar</span></a><a aria-disabled=\"false\" class=\"ipc-list__item nav-link sc-cOifbb dhnfmK ipc-list__item--indent-one\" href=\"/chart/top/?ref_=nv_mv_250\" role=\"menuitem\" tabindex=\"-1\"><span class=\"ipc-list-item__text\" role=\"presentation\">Top 250 Movies</span></a><a aria-disabled=\"false\" class=\"ipc-list__item nav-link sc-cOifbb dhnfmK ipc-list__item--indent-one\" href=\"/chart/moviemeter/?ref_=nv_mv_mpm\" role=\"menuitem\" tabindex=\"-1\"><span class=\"ipc-list-item__text\" role=\"presentation\">Most Popular Movies</span></a><a aria-disabled=\"false\" class=\"ipc-list__item nav-link sc-cOifbb dhnfmK ipc-list__item--indent-one\" href=\"/feature/genre/?ref_=nv_ch_gr\" role=\"menuitem\" tabindex=\"-1\"><span class=\"ipc-list-item__text\" role=\"presentation\">Browse Movies by Genre</span></a><a aria-disabled=\"false\" class=\"ipc-list__item nav-link sc-cOifbb dhnfmK ipc-list__item--indent-one\" href=\"/chart/boxoffice/?ref_=nv_ch_cht\" role=\"menuitem\" tabindex=\"-1\"><span class=\"ipc-list-item__text\" role=\"presentation\">Top Box Office</span></a><a aria-disabled=\"false\" class=\"ipc-list__item nav-link sc-cOifbb dhnfmK ipc-list__item--indent-one\" href=\"/showtimes/?ref_=nv_mv_sh\" role=\"menuitem\" tabindex=\"-1\"><span class=\"ipc-list-item__text\" role=\"presentation\">Showtimes &amp; Tickets</span></a><a aria-disabled=\"false\" class=\"ipc-list__item nav-link sc-cOifbb dhnfmK ipc-list__item--indent-one\" href=\"/news/movie/?ref_=nv_nw_mv\" role=\"menuitem\" tabindex=\"-1\"><span class=\"ipc-list-item__text\" role=\"presentation\">Movie News</span></a><a aria-disabled=\"false\" class=\"ipc-list__item nav-link sc-cOifbb dhnfmK ipc-list__item--indent-one\" href=\"/india/toprated/?ref_=nv_mv_in\" role=\"menuitem\" tabindex=\"-1\"><span class=\"ipc-list-item__text\" role=\"presentation\">India Movie Spotlight</span></a></ul>,\n",
       " <ul aria-orientation=\"vertical\" class=\"ipc-list navlinkcat__list ipc-list--baseAlt\" role=\"menu\"><a aria-disabled=\"false\" class=\"ipc-list__item nav-link sc-cOifbb dhnfmK ipc-list__item--indent-one\" href=\"/whats-on-tv/?ref_=nv_tv_ontv\" role=\"menuitem\" tabindex=\"-1\"><span class=\"ipc-list-item__text\" role=\"presentation\">What's on TV &amp; Streaming</span></a><a aria-disabled=\"false\" class=\"ipc-list__item nav-link sc-cOifbb dhnfmK ipc-list__item--indent-one\" href=\"/chart/toptv/?ref_=nv_tvv_250\" role=\"menuitem\" tabindex=\"-1\"><span class=\"ipc-list-item__text\" role=\"presentation\">Top 250 TV Shows</span></a><a aria-disabled=\"false\" class=\"ipc-list__item nav-link sc-cOifbb dhnfmK ipc-list__item--indent-one\" href=\"/chart/tvmeter/?ref_=nv_tvv_mptv\" role=\"menuitem\" tabindex=\"-1\"><span class=\"ipc-list-item__text\" role=\"presentation\">Most Popular TV Shows</span></a><a aria-disabled=\"false\" class=\"ipc-list__item nav-link sc-cOifbb dhnfmK ipc-list__item--indent-one\" href=\"/feature/genre/\" role=\"menuitem\" tabindex=\"-1\"><span class=\"ipc-list-item__text\" role=\"presentation\">Browse TV Shows by Genre</span></a><a aria-disabled=\"false\" class=\"ipc-list__item nav-link sc-cOifbb dhnfmK ipc-list__item--indent-one\" href=\"/news/tv/?ref_=nv_nw_tv\" role=\"menuitem\" tabindex=\"-1\"><span class=\"ipc-list-item__text\" role=\"presentation\">TV News</span></a></ul>,\n",
       " <ul aria-orientation=\"vertical\" class=\"ipc-list navlinkcat__list ipc-list--baseAlt\" role=\"menu\"><a aria-disabled=\"false\" class=\"ipc-list__item nav-link sc-cOifbb dhnfmK ipc-list__item--indent-one\" href=\"/what-to-watch/?ref_=nv_watch\" role=\"menuitem\" tabindex=\"-1\"><span class=\"ipc-list-item__text\" role=\"presentation\">What to Watch</span></a><a aria-disabled=\"false\" class=\"ipc-list__item nav-link sc-cOifbb dhnfmK ipc-list__item--indent-one\" href=\"/trailers/?ref_=nv_mv_tr\" role=\"menuitem\" tabindex=\"-1\"><span class=\"ipc-list-item__text\" role=\"presentation\">Latest Trailers</span></a><a aria-disabled=\"false\" class=\"ipc-list__item nav-link sc-cOifbb dhnfmK ipc-list__item--indent-one\" href=\"/originals/?ref_=nv_sf_ori\" role=\"menuitem\" tabindex=\"-1\"><span class=\"ipc-list-item__text\" role=\"presentation\">IMDb Originals</span></a><a aria-disabled=\"false\" class=\"ipc-list__item nav-link sc-cOifbb dhnfmK ipc-list__item--indent-one\" href=\"/imdbpicks/?ref_=nv_pi\" role=\"menuitem\" tabindex=\"-1\"><span class=\"ipc-list-item__text\" role=\"presentation\">IMDb Picks</span></a><a aria-disabled=\"false\" class=\"ipc-list__item nav-link sc-cOifbb dhnfmK ipc-list__item--indent-one\" href=\"/spotlight/?ref_=nv_vi_csegspot\" role=\"menuitem\" tabindex=\"-1\"><span class=\"ipc-list-item__text\" role=\"presentation\">IMDb Spotlight</span></a><a aria-disabled=\"false\" class=\"ipc-list__item nav-link sc-cOifbb dhnfmK ipc-list__item--indent-one\" href=\"/search/title/?title_type=podcastSeries&amp;ref_=nv_pod\" role=\"menuitem\" tabindex=\"-1\"><span class=\"ipc-list-item__text\" role=\"presentation\">IMDb Podcasts</span></a></ul>,\n",
       " <ul aria-orientation=\"vertical\" class=\"ipc-list navlinkcat__list ipc-list--baseAlt\" role=\"menu\"><a aria-disabled=\"false\" class=\"ipc-list__item nav-link sc-cOifbb dhnfmK ipc-list__item--indent-one\" href=\"/comic-con/?ref_=nv_ev_csegsdcc\" role=\"menuitem\" tabindex=\"-1\"><span class=\"ipc-list-item__text\" role=\"presentation\">San Diego Comic-Con</span></a><a aria-disabled=\"false\" class=\"ipc-list__item nav-link sc-cOifbb dhnfmK ipc-list__item--indent-one\" href=\"/oscars/?ref_=nv_ev_csegosc\" role=\"menuitem\" tabindex=\"-1\"><span class=\"ipc-list-item__text\" role=\"presentation\">Oscars</span></a><a aria-disabled=\"false\" class=\"ipc-list__item nav-link sc-cOifbb dhnfmK ipc-list__item--indent-one\" href=\"/emmys/?ref_=nv_ev_csegemy\" role=\"menuitem\" tabindex=\"-1\"><span class=\"ipc-list-item__text\" role=\"presentation\">Emmys</span></a><a aria-disabled=\"false\" class=\"ipc-list__item nav-link sc-cOifbb dhnfmK ipc-list__item--indent-one\" href=\"/starmeterawards/?ref_=nv_ev_sma\" role=\"menuitem\" tabindex=\"-1\"><span class=\"ipc-list-item__text\" role=\"presentation\">STARmeter Awards</span></a><a aria-disabled=\"false\" class=\"ipc-list__item nav-link sc-cOifbb dhnfmK ipc-list__item--indent-one\" href=\"/awards-central/?ref_=nv_ev_csegawds\" role=\"menuitem\" tabindex=\"-1\"><span class=\"ipc-list-item__text\" role=\"presentation\">Awards Central</span></a><a aria-disabled=\"false\" class=\"ipc-list__item nav-link sc-cOifbb dhnfmK ipc-list__item--indent-one\" href=\"/festival-central/?ref_=nv_ev_csegfest\" role=\"menuitem\" tabindex=\"-1\"><span class=\"ipc-list-item__text\" role=\"presentation\">Festival Central</span></a><a aria-disabled=\"false\" class=\"ipc-list__item nav-link sc-cOifbb dhnfmK ipc-list__item--indent-one\" href=\"/event/all/?ref_=nv_ev_all\" role=\"menuitem\" tabindex=\"-1\"><span class=\"ipc-list-item__text\" role=\"presentation\">All Events</span></a></ul>,\n",
       " <ul aria-orientation=\"vertical\" class=\"ipc-list navlinkcat__list ipc-list--baseAlt\" role=\"menu\"><a aria-disabled=\"false\" class=\"ipc-list__item nav-link sc-cOifbb dhnfmK ipc-list__item--indent-one\" href=\"/feature/bornondate/?ref_=nv_cel_brn\" role=\"menuitem\" tabindex=\"-1\"><span class=\"ipc-list-item__text\" role=\"presentation\">Born Today</span></a><a aria-disabled=\"false\" class=\"ipc-list__item nav-link sc-cOifbb dhnfmK ipc-list__item--indent-one\" href=\"/chart/starmeter/?ref_=nv_cel_m\" role=\"menuitem\" tabindex=\"-1\"><span class=\"ipc-list-item__text\" role=\"presentation\">Most Popular Celebs</span></a><a aria-disabled=\"false\" class=\"ipc-list__item nav-link sc-cOifbb dhnfmK ipc-list__item--indent-one\" href=\"/news/celebrity/?ref_=nv_cel_nw\" role=\"menuitem\" tabindex=\"-1\"><span class=\"ipc-list-item__text\" role=\"presentation\">Celebrity News</span></a></ul>,\n",
       " <ul aria-orientation=\"vertical\" class=\"ipc-list navlinkcat__list ipc-list--baseAlt\" role=\"menu\"><a aria-disabled=\"false\" class=\"ipc-list__item nav-link sc-cOifbb dhnfmK ipc-list__item--indent-one\" href=\"https://help.imdb.com/imdb?ref_=cons_nb_hlp\" role=\"menuitem\" tabindex=\"-1\"><span class=\"ipc-list-item__text\" role=\"presentation\">Help Center</span></a><a aria-disabled=\"false\" class=\"ipc-list__item nav-link sc-cOifbb dhnfmK ipc-list__item--indent-one\" href=\"https://contribute.imdb.com/czone?ref_=nv_cm_cz\" role=\"menuitem\" tabindex=\"-1\"><span class=\"ipc-list-item__text\" role=\"presentation\">Contributor Zone</span></a><a aria-disabled=\"false\" class=\"ipc-list__item nav-link sc-cOifbb dhnfmK ipc-list__item--indent-one\" href=\"/poll/?ref_=nv_cm_pl\" role=\"menuitem\" tabindex=\"-1\"><span class=\"ipc-list-item__text\" role=\"presentation\">Polls</span></a></ul>,\n",
       " <ul aria-orientation=\"vertical\" class=\"ipc-list ipc-list--baseAlt\" role=\"menu\"><li aria-disabled=\"false\" class=\"ipc-list__item sc-hhIjBB blvKgl disabled\" role=\"menuitem\" tabindex=\"0\"><span class=\"ipc-list-item__text\" role=\"presentation\">Language</span></li><li class=\"ipc-list-divider\" role=\"separator\"></li></ul>,\n",
       " <ul aria-orientation=\"vertical\" class=\"ipc-list nav-fully-supported-languages ipc-list--baseAlt\" role=\"menu\"><li aria-disabled=\"false\" class=\"ipc-list__item sc-dPaOmx ciOams disabled\" role=\"menuitem\" tabindex=\"0\"><span class=\"ipc-list-item__text\" role=\"presentation\">Fully supported</span></li><li class=\"ipc-list-divider\" role=\"separator\"></li><li aria-disabled=\"false\" aria-label=\"English (United States)\" class=\"ipc-list__item sc-carGes kXjiIc language-option selected\" id=\"language-option-en-US\" role=\"menuitem\" tabindex=\"0\"><span class=\"language-menu-item-span ipc-list-item__icon ipc-list-item__icon--pre\" role=\"presentation\"><svg class=\"ipc-icon ipc-icon--radio-button-checked language-menu-item-icon selected-language-icon\" fill=\"currentColor\" height=\"24\" role=\"presentation\" viewbox=\"0 0 24 24\" width=\"24\" xmlns=\"http://www.w3.org/2000/svg\"><path d=\"M0 0h24v24H0V0z\" fill=\"none\"></path><path d=\"M12 2C6.48 2 2 6.48 2 12s4.48 10 10 10 10-4.48 10-10S17.52 2 12 2zm0 18c-4.42 0-8-3.58-8-8s3.58-8 8-8 8 3.58 8 8-3.58 8-8 8z\"></path><circle cx=\"12\" cy=\"12\" r=\"5\"></circle></svg></span><span class=\"ipc-list-item__text\" role=\"presentation\">English (United States)</span></li><li class=\"ipc-list-divider\" role=\"separator\"></li></ul>,\n",
       " <ul aria-orientation=\"vertical\" class=\"ipc-list nav-partially-supported-languages ipc-list--baseAlt\" role=\"menu\"><a aria-disabled=\"false\" aria-label=\"Learn more about partially supported languages.\" class=\"ipc-list__item sc-dPaOmx ciOams\" href=\"https://help.imdb.com/article/issues/G6TCMBKAAR5G95EN?ref_=loc_nav_sel_hlp\" role=\"menuitem\" tabindex=\"0\" target=\"_blank\"><span class=\"ipc-list-item__text\" role=\"presentation\">Partially supported</span><span class=\"ipc-list-item__icon ipc-list-item__icon--post\" role=\"presentation\"><svg class=\"ipc-icon ipc-icon--help-outline\" fill=\"currentColor\" height=\"24\" role=\"presentation\" viewbox=\"0 0 24 24\" width=\"24\" xmlns=\"http://www.w3.org/2000/svg\"><path d=\"M0 0h24v24H0V0z\" fill=\"none\"></path><path d=\"M12 2C6.48 2 2 6.48 2 12s4.48 10 10 10 10-4.48 10-10S17.52 2 12 2zm0 18c-4.41 0-8-3.59-8-8s3.59-8 8-8 8 3.59 8 8-3.59 8-8 8zm-1-4h2v2h-2zm1.61-9.96c-2.06-.3-3.88.97-4.43 2.79-.18.58.26 1.17.87 1.17h.2c.41 0 .74-.29.88-.67.32-.89 1.27-1.5 2.3-1.28.95.2 1.65 1.13 1.57 2.1-.1 1.34-1.62 1.63-2.45 2.88 0 .01-.01.01-.01.02-.01.02-.02.03-.03.05-.09.15-.18.32-.25.5-.01.03-.03.05-.04.08-.01.02-.01.04-.02.07-.12.34-.2.75-.2 1.25h2c0-.42.11-.77.28-1.07.02-.03.03-.06.05-.09.08-.14.18-.27.28-.39.01-.01.02-.03.03-.04.1-.12.21-.23.33-.34.96-.91 2.26-1.65 1.99-3.56-.24-1.74-1.61-3.21-3.35-3.47z\"></path></svg></span></a><li class=\"ipc-list-divider\" role=\"separator\"></li><li aria-disabled=\"false\" aria-label=\"Français (Canada)\" class=\"ipc-list__item sc-carGes kXjiIc language-option\" id=\"language-option-fr-CA\" role=\"menuitem\" tabindex=\"0\"><span class=\"language-menu-item-span ipc-list-item__icon ipc-list-item__icon--pre\" role=\"presentation\"><svg class=\"ipc-icon ipc-icon--radio-button-unchecked language-menu-item-icon\" fill=\"currentColor\" height=\"24\" role=\"presentation\" viewbox=\"0 0 24 24\" width=\"24\" xmlns=\"http://www.w3.org/2000/svg\"><path d=\"M0 0h24v24H0V0z\" fill=\"none\"></path><path d=\"M12 2C6.48 2 2 6.48 2 12s4.48 10 10 10 10-4.48 10-10S17.52 2 12 2zm0 18c-4.42 0-8-3.58-8-8s3.58-8 8-8 8 3.58 8 8-3.58 8-8 8z\"></path></svg></span><span class=\"ipc-list-item__text\" role=\"presentation\">Français (Canada)</span></li><li aria-disabled=\"false\" aria-label=\"Français (France)\" class=\"ipc-list__item sc-carGes kXjiIc language-option\" id=\"language-option-fr-FR\" role=\"menuitem\" tabindex=\"0\"><span class=\"language-menu-item-span ipc-list-item__icon ipc-list-item__icon--pre\" role=\"presentation\"><svg class=\"ipc-icon ipc-icon--radio-button-unchecked language-menu-item-icon\" fill=\"currentColor\" height=\"24\" role=\"presentation\" viewbox=\"0 0 24 24\" width=\"24\" xmlns=\"http://www.w3.org/2000/svg\"><path d=\"M0 0h24v24H0V0z\" fill=\"none\"></path><path d=\"M12 2C6.48 2 2 6.48 2 12s4.48 10 10 10 10-4.48 10-10S17.52 2 12 2zm0 18c-4.42 0-8-3.58-8-8s3.58-8 8-8 8 3.58 8 8-3.58 8-8 8z\"></path></svg></span><span class=\"ipc-list-item__text\" role=\"presentation\">Français (France)</span></li><li aria-disabled=\"false\" aria-label=\"Deutsch (Deutschland)\" class=\"ipc-list__item sc-carGes kXjiIc language-option\" id=\"language-option-de-DE\" role=\"menuitem\" tabindex=\"0\"><span class=\"language-menu-item-span ipc-list-item__icon ipc-list-item__icon--pre\" role=\"presentation\"><svg class=\"ipc-icon ipc-icon--radio-button-unchecked language-menu-item-icon\" fill=\"currentColor\" height=\"24\" role=\"presentation\" viewbox=\"0 0 24 24\" width=\"24\" xmlns=\"http://www.w3.org/2000/svg\"><path d=\"M0 0h24v24H0V0z\" fill=\"none\"></path><path d=\"M12 2C6.48 2 2 6.48 2 12s4.48 10 10 10 10-4.48 10-10S17.52 2 12 2zm0 18c-4.42 0-8-3.58-8-8s3.58-8 8-8 8 3.58 8 8-3.58 8-8 8z\"></path></svg></span><span class=\"ipc-list-item__text\" role=\"presentation\">Deutsch (Deutschland)</span></li><li aria-disabled=\"false\" aria-label=\"हिंदी (भारत)\" class=\"ipc-list__item sc-carGes kXjiIc language-option\" id=\"language-option-hi-IN\" role=\"menuitem\" tabindex=\"0\"><span class=\"language-menu-item-span ipc-list-item__icon ipc-list-item__icon--pre\" role=\"presentation\"><svg class=\"ipc-icon ipc-icon--radio-button-unchecked language-menu-item-icon\" fill=\"currentColor\" height=\"24\" role=\"presentation\" viewbox=\"0 0 24 24\" width=\"24\" xmlns=\"http://www.w3.org/2000/svg\"><path d=\"M0 0h24v24H0V0z\" fill=\"none\"></path><path d=\"M12 2C6.48 2 2 6.48 2 12s4.48 10 10 10 10-4.48 10-10S17.52 2 12 2zm0 18c-4.42 0-8-3.58-8-8s3.58-8 8-8 8 3.58 8 8-3.58 8-8 8z\"></path></svg></span><span class=\"ipc-list-item__text\" role=\"presentation\">हिंदी (भारत)</span></li><li aria-disabled=\"false\" aria-label=\"Italiano (Italia)\" class=\"ipc-list__item sc-carGes kXjiIc language-option\" id=\"language-option-it-IT\" role=\"menuitem\" tabindex=\"0\"><span class=\"language-menu-item-span ipc-list-item__icon ipc-list-item__icon--pre\" role=\"presentation\"><svg class=\"ipc-icon ipc-icon--radio-button-unchecked language-menu-item-icon\" fill=\"currentColor\" height=\"24\" role=\"presentation\" viewbox=\"0 0 24 24\" width=\"24\" xmlns=\"http://www.w3.org/2000/svg\"><path d=\"M0 0h24v24H0V0z\" fill=\"none\"></path><path d=\"M12 2C6.48 2 2 6.48 2 12s4.48 10 10 10 10-4.48 10-10S17.52 2 12 2zm0 18c-4.42 0-8-3.58-8-8s3.58-8 8-8 8 3.58 8 8-3.58 8-8 8z\"></path></svg></span><span class=\"ipc-list-item__text\" role=\"presentation\">Italiano (Italia)</span></li><li aria-disabled=\"false\" aria-label=\"Português (Brasil)\" class=\"ipc-list__item sc-carGes kXjiIc language-option\" id=\"language-option-pt-BR\" role=\"menuitem\" tabindex=\"0\"><span class=\"language-menu-item-span ipc-list-item__icon ipc-list-item__icon--pre\" role=\"presentation\"><svg class=\"ipc-icon ipc-icon--radio-button-unchecked language-menu-item-icon\" fill=\"currentColor\" height=\"24\" role=\"presentation\" viewbox=\"0 0 24 24\" width=\"24\" xmlns=\"http://www.w3.org/2000/svg\"><path d=\"M0 0h24v24H0V0z\" fill=\"none\"></path><path d=\"M12 2C6.48 2 2 6.48 2 12s4.48 10 10 10 10-4.48 10-10S17.52 2 12 2zm0 18c-4.42 0-8-3.58-8-8s3.58-8 8-8 8 3.58 8 8-3.58 8-8 8z\"></path></svg></span><span class=\"ipc-list-item__text\" role=\"presentation\">Português (Brasil)</span></li><li aria-disabled=\"false\" aria-label=\"Español (España)\" class=\"ipc-list__item sc-carGes kXjiIc language-option\" id=\"language-option-es-ES\" role=\"menuitem\" tabindex=\"0\"><span class=\"language-menu-item-span ipc-list-item__icon ipc-list-item__icon--pre\" role=\"presentation\"><svg class=\"ipc-icon ipc-icon--radio-button-unchecked language-menu-item-icon\" fill=\"currentColor\" height=\"24\" role=\"presentation\" viewbox=\"0 0 24 24\" width=\"24\" xmlns=\"http://www.w3.org/2000/svg\"><path d=\"M0 0h24v24H0V0z\" fill=\"none\"></path><path d=\"M12 2C6.48 2 2 6.48 2 12s4.48 10 10 10 10-4.48 10-10S17.52 2 12 2zm0 18c-4.42 0-8-3.58-8-8s3.58-8 8-8 8 3.58 8 8-3.58 8-8 8z\"></path></svg></span><span class=\"ipc-list-item__text\" role=\"presentation\">Español (España)</span></li><li aria-disabled=\"false\" aria-label=\"Español (México)\" class=\"ipc-list__item sc-carGes kXjiIc language-option\" id=\"language-option-es-MX\" role=\"menuitem\" tabindex=\"0\"><span class=\"language-menu-item-span ipc-list-item__icon ipc-list-item__icon--pre\" role=\"presentation\"><svg class=\"ipc-icon ipc-icon--radio-button-unchecked language-menu-item-icon\" fill=\"currentColor\" height=\"24\" role=\"presentation\" viewbox=\"0 0 24 24\" width=\"24\" xmlns=\"http://www.w3.org/2000/svg\"><path d=\"M0 0h24v24H0V0z\" fill=\"none\"></path><path d=\"M12 2C6.48 2 2 6.48 2 12s4.48 10 10 10 10-4.48 10-10S17.52 2 12 2zm0 18c-4.42 0-8-3.58-8-8s3.58-8 8-8 8 3.58 8 8-3.58 8-8 8z\"></path></svg></span><span class=\"ipc-list-item__text\" role=\"presentation\">Español (México)</span></li></ul>,\n",
       " <ul aria-orientation=\"vertical\" class=\"ipc-list nav-fully-supported-languages ipc-list--baseAlt\" role=\"menu\"><li aria-disabled=\"false\" class=\"ipc-list__item sc-dPaOmx ciOams disabled\" role=\"menuitem\" tabindex=\"0\"><span class=\"ipc-list-item__text\" role=\"presentation\">Fully supported</span></li><li class=\"ipc-list-divider\" role=\"separator\"></li><li aria-disabled=\"false\" aria-label=\"English (United States)\" class=\"ipc-list__item sc-carGes kXjiIc language-option selected\" id=\"language-option-en-US\" role=\"menuitem\" tabindex=\"0\"><span class=\"language-menu-item-span ipc-list-item__icon ipc-list-item__icon--pre\" role=\"presentation\"><svg class=\"ipc-icon ipc-icon--radio-button-checked language-menu-item-icon selected-language-icon\" fill=\"currentColor\" height=\"24\" role=\"presentation\" viewbox=\"0 0 24 24\" width=\"24\" xmlns=\"http://www.w3.org/2000/svg\"><path d=\"M0 0h24v24H0V0z\" fill=\"none\"></path><path d=\"M12 2C6.48 2 2 6.48 2 12s4.48 10 10 10 10-4.48 10-10S17.52 2 12 2zm0 18c-4.42 0-8-3.58-8-8s3.58-8 8-8 8 3.58 8 8-3.58 8-8 8z\"></path><circle cx=\"12\" cy=\"12\" r=\"5\"></circle></svg></span><span class=\"ipc-list-item__text\" role=\"presentation\">English (United States)</span></li><li class=\"ipc-list-divider\" role=\"separator\"></li></ul>,\n",
       " <ul aria-orientation=\"vertical\" class=\"ipc-list nav-partially-supported-languages ipc-list--baseAlt\" role=\"menu\"><a aria-disabled=\"false\" aria-label=\"Learn more about partially supported languages.\" class=\"ipc-list__item sc-dPaOmx ciOams\" href=\"https://help.imdb.com/article/issues/G6TCMBKAAR5G95EN?ref_=loc_nav_sel_hlp\" role=\"menuitem\" tabindex=\"0\" target=\"_blank\"><span class=\"ipc-list-item__text\" role=\"presentation\">Partially supported</span><span class=\"ipc-list-item__icon ipc-list-item__icon--post\" role=\"presentation\"><svg class=\"ipc-icon ipc-icon--help-outline\" fill=\"currentColor\" height=\"24\" role=\"presentation\" viewbox=\"0 0 24 24\" width=\"24\" xmlns=\"http://www.w3.org/2000/svg\"><path d=\"M0 0h24v24H0V0z\" fill=\"none\"></path><path d=\"M12 2C6.48 2 2 6.48 2 12s4.48 10 10 10 10-4.48 10-10S17.52 2 12 2zm0 18c-4.41 0-8-3.59-8-8s3.59-8 8-8 8 3.59 8 8-3.59 8-8 8zm-1-4h2v2h-2zm1.61-9.96c-2.06-.3-3.88.97-4.43 2.79-.18.58.26 1.17.87 1.17h.2c.41 0 .74-.29.88-.67.32-.89 1.27-1.5 2.3-1.28.95.2 1.65 1.13 1.57 2.1-.1 1.34-1.62 1.63-2.45 2.88 0 .01-.01.01-.01.02-.01.02-.02.03-.03.05-.09.15-.18.32-.25.5-.01.03-.03.05-.04.08-.01.02-.01.04-.02.07-.12.34-.2.75-.2 1.25h2c0-.42.11-.77.28-1.07.02-.03.03-.06.05-.09.08-.14.18-.27.28-.39.01-.01.02-.03.03-.04.1-.12.21-.23.33-.34.96-.91 2.26-1.65 1.99-3.56-.24-1.74-1.61-3.21-3.35-3.47z\"></path></svg></span></a><li class=\"ipc-list-divider\" role=\"separator\"></li><li aria-disabled=\"false\" aria-label=\"Français (Canada)\" class=\"ipc-list__item sc-carGes kXjiIc language-option\" id=\"language-option-fr-CA\" role=\"menuitem\" tabindex=\"0\"><span class=\"language-menu-item-span ipc-list-item__icon ipc-list-item__icon--pre\" role=\"presentation\"><svg class=\"ipc-icon ipc-icon--radio-button-unchecked language-menu-item-icon\" fill=\"currentColor\" height=\"24\" role=\"presentation\" viewbox=\"0 0 24 24\" width=\"24\" xmlns=\"http://www.w3.org/2000/svg\"><path d=\"M0 0h24v24H0V0z\" fill=\"none\"></path><path d=\"M12 2C6.48 2 2 6.48 2 12s4.48 10 10 10 10-4.48 10-10S17.52 2 12 2zm0 18c-4.42 0-8-3.58-8-8s3.58-8 8-8 8 3.58 8 8-3.58 8-8 8z\"></path></svg></span><span class=\"ipc-list-item__text\" role=\"presentation\">Français (Canada)</span></li><li aria-disabled=\"false\" aria-label=\"Français (France)\" class=\"ipc-list__item sc-carGes kXjiIc language-option\" id=\"language-option-fr-FR\" role=\"menuitem\" tabindex=\"0\"><span class=\"language-menu-item-span ipc-list-item__icon ipc-list-item__icon--pre\" role=\"presentation\"><svg class=\"ipc-icon ipc-icon--radio-button-unchecked language-menu-item-icon\" fill=\"currentColor\" height=\"24\" role=\"presentation\" viewbox=\"0 0 24 24\" width=\"24\" xmlns=\"http://www.w3.org/2000/svg\"><path d=\"M0 0h24v24H0V0z\" fill=\"none\"></path><path d=\"M12 2C6.48 2 2 6.48 2 12s4.48 10 10 10 10-4.48 10-10S17.52 2 12 2zm0 18c-4.42 0-8-3.58-8-8s3.58-8 8-8 8 3.58 8 8-3.58 8-8 8z\"></path></svg></span><span class=\"ipc-list-item__text\" role=\"presentation\">Français (France)</span></li><li aria-disabled=\"false\" aria-label=\"Deutsch (Deutschland)\" class=\"ipc-list__item sc-carGes kXjiIc language-option\" id=\"language-option-de-DE\" role=\"menuitem\" tabindex=\"0\"><span class=\"language-menu-item-span ipc-list-item__icon ipc-list-item__icon--pre\" role=\"presentation\"><svg class=\"ipc-icon ipc-icon--radio-button-unchecked language-menu-item-icon\" fill=\"currentColor\" height=\"24\" role=\"presentation\" viewbox=\"0 0 24 24\" width=\"24\" xmlns=\"http://www.w3.org/2000/svg\"><path d=\"M0 0h24v24H0V0z\" fill=\"none\"></path><path d=\"M12 2C6.48 2 2 6.48 2 12s4.48 10 10 10 10-4.48 10-10S17.52 2 12 2zm0 18c-4.42 0-8-3.58-8-8s3.58-8 8-8 8 3.58 8 8-3.58 8-8 8z\"></path></svg></span><span class=\"ipc-list-item__text\" role=\"presentation\">Deutsch (Deutschland)</span></li><li aria-disabled=\"false\" aria-label=\"हिंदी (भारत)\" class=\"ipc-list__item sc-carGes kXjiIc language-option\" id=\"language-option-hi-IN\" role=\"menuitem\" tabindex=\"0\"><span class=\"language-menu-item-span ipc-list-item__icon ipc-list-item__icon--pre\" role=\"presentation\"><svg class=\"ipc-icon ipc-icon--radio-button-unchecked language-menu-item-icon\" fill=\"currentColor\" height=\"24\" role=\"presentation\" viewbox=\"0 0 24 24\" width=\"24\" xmlns=\"http://www.w3.org/2000/svg\"><path d=\"M0 0h24v24H0V0z\" fill=\"none\"></path><path d=\"M12 2C6.48 2 2 6.48 2 12s4.48 10 10 10 10-4.48 10-10S17.52 2 12 2zm0 18c-4.42 0-8-3.58-8-8s3.58-8 8-8 8 3.58 8 8-3.58 8-8 8z\"></path></svg></span><span class=\"ipc-list-item__text\" role=\"presentation\">हिंदी (भारत)</span></li><li aria-disabled=\"false\" aria-label=\"Italiano (Italia)\" class=\"ipc-list__item sc-carGes kXjiIc language-option\" id=\"language-option-it-IT\" role=\"menuitem\" tabindex=\"0\"><span class=\"language-menu-item-span ipc-list-item__icon ipc-list-item__icon--pre\" role=\"presentation\"><svg class=\"ipc-icon ipc-icon--radio-button-unchecked language-menu-item-icon\" fill=\"currentColor\" height=\"24\" role=\"presentation\" viewbox=\"0 0 24 24\" width=\"24\" xmlns=\"http://www.w3.org/2000/svg\"><path d=\"M0 0h24v24H0V0z\" fill=\"none\"></path><path d=\"M12 2C6.48 2 2 6.48 2 12s4.48 10 10 10 10-4.48 10-10S17.52 2 12 2zm0 18c-4.42 0-8-3.58-8-8s3.58-8 8-8 8 3.58 8 8-3.58 8-8 8z\"></path></svg></span><span class=\"ipc-list-item__text\" role=\"presentation\">Italiano (Italia)</span></li><li aria-disabled=\"false\" aria-label=\"Português (Brasil)\" class=\"ipc-list__item sc-carGes kXjiIc language-option\" id=\"language-option-pt-BR\" role=\"menuitem\" tabindex=\"0\"><span class=\"language-menu-item-span ipc-list-item__icon ipc-list-item__icon--pre\" role=\"presentation\"><svg class=\"ipc-icon ipc-icon--radio-button-unchecked language-menu-item-icon\" fill=\"currentColor\" height=\"24\" role=\"presentation\" viewbox=\"0 0 24 24\" width=\"24\" xmlns=\"http://www.w3.org/2000/svg\"><path d=\"M0 0h24v24H0V0z\" fill=\"none\"></path><path d=\"M12 2C6.48 2 2 6.48 2 12s4.48 10 10 10 10-4.48 10-10S17.52 2 12 2zm0 18c-4.42 0-8-3.58-8-8s3.58-8 8-8 8 3.58 8 8-3.58 8-8 8z\"></path></svg></span><span class=\"ipc-list-item__text\" role=\"presentation\">Português (Brasil)</span></li><li aria-disabled=\"false\" aria-label=\"Español (España)\" class=\"ipc-list__item sc-carGes kXjiIc language-option\" id=\"language-option-es-ES\" role=\"menuitem\" tabindex=\"0\"><span class=\"language-menu-item-span ipc-list-item__icon ipc-list-item__icon--pre\" role=\"presentation\"><svg class=\"ipc-icon ipc-icon--radio-button-unchecked language-menu-item-icon\" fill=\"currentColor\" height=\"24\" role=\"presentation\" viewbox=\"0 0 24 24\" width=\"24\" xmlns=\"http://www.w3.org/2000/svg\"><path d=\"M0 0h24v24H0V0z\" fill=\"none\"></path><path d=\"M12 2C6.48 2 2 6.48 2 12s4.48 10 10 10 10-4.48 10-10S17.52 2 12 2zm0 18c-4.42 0-8-3.58-8-8s3.58-8 8-8 8 3.58 8 8-3.58 8-8 8z\"></path></svg></span><span class=\"ipc-list-item__text\" role=\"presentation\">Español (España)</span></li><li aria-disabled=\"false\" aria-label=\"Español (México)\" class=\"ipc-list__item sc-carGes kXjiIc language-option\" id=\"language-option-es-MX\" role=\"menuitem\" tabindex=\"0\"><span class=\"language-menu-item-span ipc-list-item__icon ipc-list-item__icon--pre\" role=\"presentation\"><svg class=\"ipc-icon ipc-icon--radio-button-unchecked language-menu-item-icon\" fill=\"currentColor\" height=\"24\" role=\"presentation\" viewbox=\"0 0 24 24\" width=\"24\" xmlns=\"http://www.w3.org/2000/svg\"><path d=\"M0 0h24v24H0V0z\" fill=\"none\"></path><path d=\"M12 2C6.48 2 2 6.48 2 12s4.48 10 10 10 10-4.48 10-10S17.52 2 12 2zm0 18c-4.42 0-8-3.58-8-8s3.58-8 8-8 8 3.58 8 8-3.58 8-8 8z\"></path></svg></span><span class=\"ipc-list-item__text\" role=\"presentation\">Español (México)</span></li></ul>,\n",
       " <ul class=\"ipc-metadata-list ipc-metadata-list--dividers-after sc-e8e4ce7-3 dZSCYF ipc-metadata-list--base\" role=\"presentation\"><li class=\"ipc-metadata-list-summary-item ipc-metadata-list-summary-item--click find-result-item find-title-result\"><div class=\"sc-daafffbc-0 jKMtaG\"><div class=\"ipc-media ipc-media--poster-27x40 ipc-image-media-ratio--poster-27x40 ipc-media--rounded ipc-media--base ipc-media--custom ipc-media__img\" style=\"width:50px\"><img alt=\"Dev Patel in ذا جرين نايت (2021)\" class=\"ipc-image\" loading=\"lazy\" sizes=\"50vw, (min-width: 480px) 34vw, (min-width: 600px) 26vw, (min-width: 1024px) 16vw, (min-width: 1280px) 16vw\" src=\"https://m.media-amazon.com/images/M/MV5BMjMxNTdiNWMtOWY0My00MjM4LTkwNzMtOGI0YThhN2Q4M2I4XkEyXkFqcGdeQXVyMTkxNjUyNQ@@._V1_QL75_UX50_CR0,0,50,74_.jpg\" srcset=\"https://m.media-amazon.com/images/M/MV5BMjMxNTdiNWMtOWY0My00MjM4LTkwNzMtOGI0YThhN2Q4M2I4XkEyXkFqcGdeQXVyMTkxNjUyNQ@@._V1_QL75_UX50_CR0,0,50,74_.jpg 50w, https://m.media-amazon.com/images/M/MV5BMjMxNTdiNWMtOWY0My00MjM4LTkwNzMtOGI0YThhN2Q4M2I4XkEyXkFqcGdeQXVyMTkxNjUyNQ@@._V1_QL75_UX75_CR0,0,75,111_.jpg 75w, https://m.media-amazon.com/images/M/MV5BMjMxNTdiNWMtOWY0My00MjM4LTkwNzMtOGI0YThhN2Q4M2I4XkEyXkFqcGdeQXVyMTkxNjUyNQ@@._V1_QL75_UX100_CR0,0,100,148_.jpg 100w\" width=\"50\"/></div></div><div class=\"ipc-metadata-list-summary-item__c\"><div class=\"ipc-metadata-list-summary-item__tc\"><a aria-disabled=\"false\" class=\"ipc-metadata-list-summary-item__t\" href=\"/title/tt9243804/?ref_=fn_al_tt_1\" role=\"button\" tabindex=\"0\">ذا جرين نايت</a><ul class=\"ipc-inline-list ipc-inline-list--show-dividers ipc-inline-list--no-wrap ipc-inline-list--inline ipc-metadata-list-summary-item__tl base\" role=\"presentation\"><li class=\"ipc-inline-list__item\" role=\"presentation\"><span aria-disabled=\"false\" class=\"ipc-metadata-list-summary-item__li\">2021</span></li></ul><ul class=\"ipc-inline-list ipc-inline-list--show-dividers ipc-inline-list--no-wrap ipc-inline-list--inline ipc-metadata-list-summary-item__stl base\" role=\"presentation\"><li class=\"ipc-inline-list__item\" role=\"presentation\"><span aria-disabled=\"false\" class=\"ipc-metadata-list-summary-item__li\">Dev Patel, Alicia Vikander</span></li></ul></div></div></li><li class=\"ipc-metadata-list-summary-item ipc-metadata-list-summary-item--click find-result-item find-title-result\"><div class=\"sc-daafffbc-0 jKMtaG\"><div class=\"ipc-media ipc-media--poster-27x40 ipc-image-media-ratio--poster-27x40 ipc-media--rounded ipc-media--base ipc-media--custom ipc-media__img\" style=\"width:50px\"><img alt=\"The Green Knight (2022)\" class=\"ipc-image\" loading=\"lazy\" sizes=\"50vw, (min-width: 480px) 34vw, (min-width: 600px) 26vw, (min-width: 1024px) 16vw, (min-width: 1280px) 16vw\" src=\"https://m.media-amazon.com/images/M/MV5BN2FlNDNjZjQtZGE4Ny00Y2U1LWI4ZjgtZWY1MjQxYThjNTY3XkEyXkFqcGdeQXVyNjI5MTM3OA@@._V1_QL75_UX50_CR0,0,50,74_.jpg\" srcset=\"https://m.media-amazon.com/images/M/MV5BN2FlNDNjZjQtZGE4Ny00Y2U1LWI4ZjgtZWY1MjQxYThjNTY3XkEyXkFqcGdeQXVyNjI5MTM3OA@@._V1_QL75_UX50_CR0,0,50,74_.jpg 50w, https://m.media-amazon.com/images/M/MV5BN2FlNDNjZjQtZGE4Ny00Y2U1LWI4ZjgtZWY1MjQxYThjNTY3XkEyXkFqcGdeQXVyNjI5MTM3OA@@._V1_QL75_UX75_CR0,0,75,111_.jpg 75w, https://m.media-amazon.com/images/M/MV5BN2FlNDNjZjQtZGE4Ny00Y2U1LWI4ZjgtZWY1MjQxYThjNTY3XkEyXkFqcGdeQXVyNjI5MTM3OA@@._V1_QL75_UX100_CR0,0,100,148_.jpg 100w\" width=\"50\"/></div></div><div class=\"ipc-metadata-list-summary-item__c\"><div class=\"ipc-metadata-list-summary-item__tc\"><a aria-disabled=\"false\" class=\"ipc-metadata-list-summary-item__t\" href=\"/title/tt19844000/?ref_=fn_al_tt_2\" role=\"button\" tabindex=\"0\">The Green Knight</a><ul class=\"ipc-inline-list ipc-inline-list--show-dividers ipc-inline-list--no-wrap ipc-inline-list--inline ipc-metadata-list-summary-item__tl base\" role=\"presentation\"><li class=\"ipc-inline-list__item\" role=\"presentation\"><span aria-disabled=\"false\" class=\"ipc-metadata-list-summary-item__li\">2022</span></li><li class=\"ipc-inline-list__item\" role=\"presentation\"><span aria-disabled=\"false\" class=\"ipc-metadata-list-summary-item__li\">Short</span></li></ul><ul class=\"ipc-inline-list ipc-inline-list--show-dividers ipc-inline-list--no-wrap ipc-inline-list--inline ipc-metadata-list-summary-item__stl base\" role=\"presentation\"><li class=\"ipc-inline-list__item\" role=\"presentation\"><span aria-disabled=\"false\" class=\"ipc-metadata-list-summary-item__li\">Callum Adams, Aleah Black</span></li></ul></div></div></li><li class=\"ipc-metadata-list-summary-item ipc-metadata-list-summary-item--click find-result-item find-title-result\"><div class=\"sc-daafffbc-0 jKMtaG\"><div class=\"ipc-media ipc-media--poster-27x40 ipc-image-media-ratio--poster-27x40 ipc-media--rounded ipc-media--base ipc-media--custom ipc-media__img\" style=\"width:50px\"><img alt=\"Sword of the Valiant: The Legend of Sir Gawain and the Green Knight (1984)\" class=\"ipc-image\" loading=\"lazy\" sizes=\"50vw, (min-width: 480px) 34vw, (min-width: 600px) 26vw, (min-width: 1024px) 16vw, (min-width: 1280px) 16vw\" src=\"https://m.media-amazon.com/images/M/MV5BZDc1MDY2YmItYzViMS00YzJiLWJhNDQtNjU5OGI1MTc3NmVmXkEyXkFqcGdeQXVyNjMwMjk0MTQ@._V1_QL75_UX50_CR0,1,50,74_.jpg\" srcset=\"https://m.media-amazon.com/images/M/MV5BZDc1MDY2YmItYzViMS00YzJiLWJhNDQtNjU5OGI1MTc3NmVmXkEyXkFqcGdeQXVyNjMwMjk0MTQ@._V1_QL75_UX50_CR0,1,50,74_.jpg 50w, https://m.media-amazon.com/images/M/MV5BZDc1MDY2YmItYzViMS00YzJiLWJhNDQtNjU5OGI1MTc3NmVmXkEyXkFqcGdeQXVyNjMwMjk0MTQ@._V1_QL75_UX75_CR0,1,75,111_.jpg 75w, https://m.media-amazon.com/images/M/MV5BZDc1MDY2YmItYzViMS00YzJiLWJhNDQtNjU5OGI1MTc3NmVmXkEyXkFqcGdeQXVyNjMwMjk0MTQ@._V1_QL75_UX100_CR0,2,100,148_.jpg 100w\" width=\"50\"/></div></div><div class=\"ipc-metadata-list-summary-item__c\"><div class=\"ipc-metadata-list-summary-item__tc\"><a aria-disabled=\"false\" class=\"ipc-metadata-list-summary-item__t\" href=\"/title/tt0084750/?ref_=fn_al_tt_3\" role=\"button\" tabindex=\"0\">Sword of the Valiant: The Legend of Sir Gawain and the Green Knight</a><ul class=\"ipc-inline-list ipc-inline-list--show-dividers ipc-inline-list--no-wrap ipc-inline-list--inline ipc-metadata-list-summary-item__tl base\" role=\"presentation\"><li class=\"ipc-inline-list__item\" role=\"presentation\"><span aria-disabled=\"false\" class=\"ipc-metadata-list-summary-item__li\">1984</span></li></ul><ul class=\"ipc-inline-list ipc-inline-list--show-dividers ipc-inline-list--no-wrap ipc-inline-list--inline ipc-metadata-list-summary-item__stl base\" role=\"presentation\"><li class=\"ipc-inline-list__item\" role=\"presentation\"><span aria-disabled=\"false\" class=\"ipc-metadata-list-summary-item__li\">Miles O'Keeffe, Cyrielle Clair</span></li></ul></div></div></li><li class=\"ipc-metadata-list-summary-item ipc-metadata-list-summary-item--click find-result-item find-title-result\"><div class=\"sc-daafffbc-0 jKMtaG\"><div class=\"ipc-media ipc-media--poster-27x40 ipc-image-media-ratio--poster-27x40 ipc-media--rounded ipc-media--base ipc-media--custom ipc-media__img\" style=\"width:50px\"><img alt=\"Gawain and the Green Knight (1973)\" class=\"ipc-image\" loading=\"lazy\" sizes=\"50vw, (min-width: 480px) 34vw, (min-width: 600px) 26vw, (min-width: 1024px) 16vw, (min-width: 1280px) 16vw\" src=\"https://m.media-amazon.com/images/M/MV5BMGFhNzc0YmItNDhmMC00M2EyLTkxNDItZThlZWVmOTQ4NWNkXkEyXkFqcGdeQXVyMjA0MzYwMDY@._V1_QL75_UY74_CR3,0,50,74_.jpg\" srcset=\"https://m.media-amazon.com/images/M/MV5BMGFhNzc0YmItNDhmMC00M2EyLTkxNDItZThlZWVmOTQ4NWNkXkEyXkFqcGdeQXVyMjA0MzYwMDY@._V1_QL75_UY74_CR3,0,50,74_.jpg 50w, https://m.media-amazon.com/images/M/MV5BMGFhNzc0YmItNDhmMC00M2EyLTkxNDItZThlZWVmOTQ4NWNkXkEyXkFqcGdeQXVyMjA0MzYwMDY@._V1_QL75_UY111_CR4,0,75,111_.jpg 75w, https://m.media-amazon.com/images/M/MV5BMGFhNzc0YmItNDhmMC00M2EyLTkxNDItZThlZWVmOTQ4NWNkXkEyXkFqcGdeQXVyMjA0MzYwMDY@._V1_QL75_UY148_CR6,0,100,148_.jpg 100w\" width=\"50\"/></div></div><div class=\"ipc-metadata-list-summary-item__c\"><div class=\"ipc-metadata-list-summary-item__tc\"><a aria-disabled=\"false\" class=\"ipc-metadata-list-summary-item__t\" href=\"/title/tt0070093/?ref_=fn_al_tt_4\" role=\"button\" tabindex=\"0\">Gawain and the Green Knight</a><ul class=\"ipc-inline-list ipc-inline-list--show-dividers ipc-inline-list--no-wrap ipc-inline-list--inline ipc-metadata-list-summary-item__tl base\" role=\"presentation\"><li class=\"ipc-inline-list__item\" role=\"presentation\"><span aria-disabled=\"false\" class=\"ipc-metadata-list-summary-item__li\">1973</span></li></ul><ul class=\"ipc-inline-list ipc-inline-list--show-dividers ipc-inline-list--no-wrap ipc-inline-list--inline ipc-metadata-list-summary-item__stl base\" role=\"presentation\"><li class=\"ipc-inline-list__item\" role=\"presentation\"><span aria-disabled=\"false\" class=\"ipc-metadata-list-summary-item__li\">Murray Head, Ciaran Madden</span></li></ul></div></div></li><li class=\"ipc-metadata-list-summary-item ipc-metadata-list-summary-item--click find-result-item find-title-result\"><div class=\"sc-daafffbc-0 jKMtaG\"><div class=\"ipc-media ipc-media--poster-27x40 ipc-image-media-ratio--poster-27x40 ipc-media--rounded ipc-media--base ipc-media--custom ipc-media__img\" style=\"width:50px\"><img alt=\"Gawain and the Green Knight (1991)\" class=\"ipc-image\" loading=\"lazy\" sizes=\"50vw, (min-width: 480px) 34vw, (min-width: 600px) 26vw, (min-width: 1024px) 16vw, (min-width: 1280px) 16vw\" src=\"https://m.media-amazon.com/images/M/MV5BNDc2MTMyNzEtZGFiZi00MjFiLWI3M2MtMzQ2YmQ1MDc1MWNhXkEyXkFqcGdeQXVyNjg1NzcwODE@._V1_QL75_UY74_CR1,0,50,74_.jpg\" srcset=\"https://m.media-amazon.com/images/M/MV5BNDc2MTMyNzEtZGFiZi00MjFiLWI3M2MtMzQ2YmQ1MDc1MWNhXkEyXkFqcGdeQXVyNjg1NzcwODE@._V1_QL75_UY74_CR1,0,50,74_.jpg 50w, https://m.media-amazon.com/images/M/MV5BNDc2MTMyNzEtZGFiZi00MjFiLWI3M2MtMzQ2YmQ1MDc1MWNhXkEyXkFqcGdeQXVyNjg1NzcwODE@._V1_QL75_UY111_CR2,0,75,111_.jpg 75w, https://m.media-amazon.com/images/M/MV5BNDc2MTMyNzEtZGFiZi00MjFiLWI3M2MtMzQ2YmQ1MDc1MWNhXkEyXkFqcGdeQXVyNjg1NzcwODE@._V1_QL75_UY148_CR2,0,100,148_.jpg 100w\" width=\"50\"/></div></div><div class=\"ipc-metadata-list-summary-item__c\"><div class=\"ipc-metadata-list-summary-item__tc\"><a aria-disabled=\"false\" class=\"ipc-metadata-list-summary-item__t\" href=\"/title/tt0387245/?ref_=fn_al_tt_5\" role=\"button\" tabindex=\"0\">Gawain and the Green Knight</a><ul class=\"ipc-inline-list ipc-inline-list--show-dividers ipc-inline-list--no-wrap ipc-inline-list--inline ipc-metadata-list-summary-item__tl base\" role=\"presentation\"><li class=\"ipc-inline-list__item\" role=\"presentation\"><span aria-disabled=\"false\" class=\"ipc-metadata-list-summary-item__li\">1991</span></li><li class=\"ipc-inline-list__item\" role=\"presentation\"><span aria-disabled=\"false\" class=\"ipc-metadata-list-summary-item__li\">TV Movie</span></li></ul><ul class=\"ipc-inline-list ipc-inline-list--show-dividers ipc-inline-list--no-wrap ipc-inline-list--inline ipc-metadata-list-summary-item__stl base\" role=\"presentation\"><li class=\"ipc-inline-list__item\" role=\"presentation\"><span aria-disabled=\"false\" class=\"ipc-metadata-list-summary-item__li\">Malcolm Storry, Valerie Gogan</span></li></ul></div></div></li></ul>,\n",
       " <ul class=\"ipc-inline-list ipc-inline-list--show-dividers ipc-inline-list--no-wrap ipc-inline-list--inline ipc-metadata-list-summary-item__tl base\" role=\"presentation\"><li class=\"ipc-inline-list__item\" role=\"presentation\"><span aria-disabled=\"false\" class=\"ipc-metadata-list-summary-item__li\">2021</span></li></ul>,\n",
       " <ul class=\"ipc-inline-list ipc-inline-list--show-dividers ipc-inline-list--no-wrap ipc-inline-list--inline ipc-metadata-list-summary-item__stl base\" role=\"presentation\"><li class=\"ipc-inline-list__item\" role=\"presentation\"><span aria-disabled=\"false\" class=\"ipc-metadata-list-summary-item__li\">Dev Patel, Alicia Vikander</span></li></ul>,\n",
       " <ul class=\"ipc-inline-list ipc-inline-list--show-dividers ipc-inline-list--no-wrap ipc-inline-list--inline ipc-metadata-list-summary-item__tl base\" role=\"presentation\"><li class=\"ipc-inline-list__item\" role=\"presentation\"><span aria-disabled=\"false\" class=\"ipc-metadata-list-summary-item__li\">2022</span></li><li class=\"ipc-inline-list__item\" role=\"presentation\"><span aria-disabled=\"false\" class=\"ipc-metadata-list-summary-item__li\">Short</span></li></ul>,\n",
       " <ul class=\"ipc-inline-list ipc-inline-list--show-dividers ipc-inline-list--no-wrap ipc-inline-list--inline ipc-metadata-list-summary-item__stl base\" role=\"presentation\"><li class=\"ipc-inline-list__item\" role=\"presentation\"><span aria-disabled=\"false\" class=\"ipc-metadata-list-summary-item__li\">Callum Adams, Aleah Black</span></li></ul>,\n",
       " <ul class=\"ipc-inline-list ipc-inline-list--show-dividers ipc-inline-list--no-wrap ipc-inline-list--inline ipc-metadata-list-summary-item__tl base\" role=\"presentation\"><li class=\"ipc-inline-list__item\" role=\"presentation\"><span aria-disabled=\"false\" class=\"ipc-metadata-list-summary-item__li\">1984</span></li></ul>,\n",
       " <ul class=\"ipc-inline-list ipc-inline-list--show-dividers ipc-inline-list--no-wrap ipc-inline-list--inline ipc-metadata-list-summary-item__stl base\" role=\"presentation\"><li class=\"ipc-inline-list__item\" role=\"presentation\"><span aria-disabled=\"false\" class=\"ipc-metadata-list-summary-item__li\">Miles O'Keeffe, Cyrielle Clair</span></li></ul>,\n",
       " <ul class=\"ipc-inline-list ipc-inline-list--show-dividers ipc-inline-list--no-wrap ipc-inline-list--inline ipc-metadata-list-summary-item__tl base\" role=\"presentation\"><li class=\"ipc-inline-list__item\" role=\"presentation\"><span aria-disabled=\"false\" class=\"ipc-metadata-list-summary-item__li\">1973</span></li></ul>,\n",
       " <ul class=\"ipc-inline-list ipc-inline-list--show-dividers ipc-inline-list--no-wrap ipc-inline-list--inline ipc-metadata-list-summary-item__stl base\" role=\"presentation\"><li class=\"ipc-inline-list__item\" role=\"presentation\"><span aria-disabled=\"false\" class=\"ipc-metadata-list-summary-item__li\">Murray Head, Ciaran Madden</span></li></ul>,\n",
       " <ul class=\"ipc-inline-list ipc-inline-list--show-dividers ipc-inline-list--no-wrap ipc-inline-list--inline ipc-metadata-list-summary-item__tl base\" role=\"presentation\"><li class=\"ipc-inline-list__item\" role=\"presentation\"><span aria-disabled=\"false\" class=\"ipc-metadata-list-summary-item__li\">1991</span></li><li class=\"ipc-inline-list__item\" role=\"presentation\"><span aria-disabled=\"false\" class=\"ipc-metadata-list-summary-item__li\">TV Movie</span></li></ul>,\n",
       " <ul class=\"ipc-inline-list ipc-inline-list--show-dividers ipc-inline-list--no-wrap ipc-inline-list--inline ipc-metadata-list-summary-item__stl base\" role=\"presentation\"><li class=\"ipc-inline-list__item\" role=\"presentation\"><span aria-disabled=\"false\" class=\"ipc-metadata-list-summary-item__li\">Malcolm Storry, Valerie Gogan</span></li></ul>,\n",
       " <ul class=\"ipc-metadata-list ipc-metadata-list--dividers-after sc-e8e4ce7-3 dZSCYF ipc-metadata-list--base\" role=\"presentation\"><li class=\"ipc-metadata-list-summary-item ipc-metadata-list-summary-item--click find-result-item find-name-result\"><div class=\"sc-33e43eb2-0 kUmKsC\"><div class=\"ipc-media ipc-media--avatar ipc-image-media-ratio--avatar ipc-media--rounded ipc-media--base ipc-media--custom ipc-media--avatar-circle ipc-media--fallback\" style=\"width:50px\"><svg class=\"ipc-icon ipc-icon--inline ipc-media__icon\" height=\"24\" version=\"1.1\" viewbox=\"0 0 24 24\" width=\"24\" xmlns=\"http://www.w3.org/2000/svg\"><g fill=\"currentColor\" role=\"presentation\" transform=\"translate(3.000000, 2.000000)\"><path d=\"M9,0 C11.49,0 13.5,1.97473684 13.5,4.42105263 C13.5,6.86736841 11.49,8.84210526 9,8.84210526 C6.50999996,8.84210526 4.5,6.86736841 4.5,4.42105263 C4.5,1.97473684 6.50999996,0 9,0 Z M9,21 C5.25,21 1.935,19.2035087 0,16.4807017 C0.045,13.6877193 6,12.1578947 9,12.1578947 C11.985,12.1578947 17.955,13.6877193 18,16.4807017 C16.065,19.2035087 12.75,21 9,21 Z\"></path></g></svg></div></div><div class=\"ipc-metadata-list-summary-item__c\"><div class=\"ipc-metadata-list-summary-item__tc\"><a aria-disabled=\"false\" class=\"ipc-metadata-list-summary-item__t\" href=\"/name/nm2908676/?ref_=fn_al_nm_1\" role=\"button\" tabindex=\"0\">Kimberly Gordon</a><ul class=\"ipc-inline-list ipc-inline-list--show-dividers ipc-inline-list--no-wrap ipc-inline-list--inline ipc-metadata-list-summary-item__tl base\" role=\"presentation\"><li class=\"ipc-inline-list__item\" role=\"presentation\"><span aria-disabled=\"false\" class=\"ipc-metadata-list-summary-item__li\">Actress, Chicago Overcoat (2009)</span></li></ul></div></div></li></ul>,\n",
       " <ul class=\"ipc-inline-list ipc-inline-list--show-dividers ipc-inline-list--no-wrap ipc-inline-list--inline ipc-metadata-list-summary-item__tl base\" role=\"presentation\"><li class=\"ipc-inline-list__item\" role=\"presentation\"><span aria-disabled=\"false\" class=\"ipc-metadata-list-summary-item__li\">Actress, Chicago Overcoat (2009)</span></li></ul>,\n",
       " <ul class=\"ipc-inline-list ipc-inline-list--show-dividers base\" role=\"presentation\"><li class=\"ipc-inline-list__item\" role=\"presentation\"><a aria-disabled=\"false\" class=\"ipc-link ipc-link--base\" data-testid=\"advanced-search-link-genres\" href=\"/feature/genre?ref_=fn_asr_ge\" role=\"button\" tabindex=\"0\">Genres</a></li><li class=\"ipc-inline-list__item\" role=\"presentation\"><a aria-disabled=\"false\" class=\"ipc-link ipc-link--base\" data-testid=\"advanced-search-link-keywords\" href=\"/search/keyword?ref_=fn_asr_kw\" role=\"button\" tabindex=\"0\">Keywords</a></li></ul>,\n",
       " <ul class=\"ipc-inline-list footer__linksRow baseAlt\" role=\"presentation\"><li class=\"ipc-inline-list__item\" role=\"presentation\"><a aria-disabled=\"false\" aria-label=\"TikTok\" class=\"ipc-icon-link ipc-icon-link--baseAlt ipc-icon-link--onBase\" href=\"https://www.tiktok.com/@imdb\" rel=\"nofollow noopener\" role=\"button\" tabindex=\"0\" target=\"_blank\" title=\"TikTok\"><svg class=\"ipc-icon ipc-icon--tiktok\" fill=\"currentColor\" height=\"24\" role=\"presentation\" viewbox=\"0 0 24 24\" width=\"24\" xmlns=\"http://www.w3.org/2000/svg\"><path d=\"M15.2346 3C15.5316 5.55428 16.9572 7.07713 19.4359 7.23914V10.112C17.9995 10.2524 16.7412 9.78262 15.2778 8.89699V14.2702C15.2778 21.096 7.83633 23.2291 4.84463 18.3365C2.92217 15.1882 4.09941 9.66382 10.2664 9.44241V12.4719C9.7966 12.5475 9.29438 12.6663 8.83536 12.8229C7.46372 13.2873 6.68609 14.1568 6.9021 15.6904C7.31791 18.6281 12.7073 19.4975 12.2591 13.7571V3.0054H15.2346V3Z\"></path></svg></a></li><li class=\"ipc-inline-list__item\" role=\"presentation\"><a aria-disabled=\"false\" aria-label=\"Instagram\" class=\"ipc-icon-link ipc-icon-link--baseAlt ipc-icon-link--onBase\" href=\"https://instagram.com/imdb\" rel=\"nofollow noopener\" role=\"button\" tabindex=\"0\" target=\"_blank\" title=\"Instagram\"><svg class=\"ipc-icon ipc-icon--instagram\" fill=\"currentColor\" height=\"24\" role=\"presentation\" viewbox=\"0 0 24 24\" width=\"24\" xmlns=\"http://www.w3.org/2000/svg\"><path d=\"M11.997 2.04c-2.715 0-3.056.011-4.122.06-1.064.048-1.79.217-2.426.463a4.901 4.901 0 0 0-1.771 1.151 4.89 4.89 0 0 0-1.153 1.767c-.247.635-.416 1.36-.465 2.422C2.011 8.967 2 9.307 2 12.017s.011 3.049.06 4.113c.049 1.062.218 1.787.465 2.422a4.89 4.89 0 0 0 1.153 1.767 4.901 4.901 0 0 0 1.77 1.15c.636.248 1.363.416 2.427.465 1.066.048 1.407.06 4.122.06s3.055-.012 4.122-.06c1.064-.049 1.79-.217 2.426-.464a4.901 4.901 0 0 0 1.77-1.15 4.89 4.89 0 0 0 1.154-1.768c.247-.635.416-1.36.465-2.422.048-1.064.06-1.404.06-4.113 0-2.71-.012-3.05-.06-4.114-.049-1.062-.218-1.787-.465-2.422a4.89 4.89 0 0 0-1.153-1.767 4.901 4.901 0 0 0-1.77-1.15c-.637-.247-1.363-.416-2.427-.464-1.067-.049-1.407-.06-4.122-.06m0 1.797c2.67 0 2.985.01 4.04.058.974.045 1.503.207 1.856.344.466.181.8.397 1.15.746.349.35.566.682.747 1.147.137.352.3.88.344 1.853.048 1.052.058 1.368.058 4.032 0 2.664-.01 2.98-.058 4.031-.044.973-.207 1.501-.344 1.853a3.09 3.09 0 0 1-.748 1.147c-.35.35-.683.565-1.15.746-.352.137-.88.3-1.856.344-1.054.048-1.37.058-4.04.058-2.669 0-2.985-.01-4.039-.058-.974-.044-1.504-.207-1.856-.344a3.098 3.098 0 0 1-1.15-.746 3.09 3.09 0 0 1-.747-1.147c-.137-.352-.3-.88-.344-1.853-.049-1.052-.059-1.367-.059-4.031 0-2.664.01-2.98.059-4.032.044-.973.207-1.501.344-1.853a3.09 3.09 0 0 1 .748-1.147c.35-.349.682-.565 1.149-.746.352-.137.882-.3 1.856-.344 1.054-.048 1.37-.058 4.04-.058\"></path><path d=\"M11.997 15.342a3.329 3.329 0 0 1-3.332-3.325 3.329 3.329 0 0 1 3.332-3.326 3.329 3.329 0 0 1 3.332 3.326 3.329 3.329 0 0 1-3.332 3.325m0-8.449a5.128 5.128 0 0 0-5.134 5.124 5.128 5.128 0 0 0 5.134 5.123 5.128 5.128 0 0 0 5.133-5.123 5.128 5.128 0 0 0-5.133-5.124m6.536-.203c0 .662-.537 1.198-1.2 1.198a1.198 1.198 0 1 1 1.2-1.197\"></path></svg></a></li><li class=\"ipc-inline-list__item\" role=\"presentation\"><a aria-disabled=\"false\" aria-label=\"Twitter\" class=\"ipc-icon-link ipc-icon-link--baseAlt ipc-icon-link--onBase\" href=\"https://twitter.com/imdb\" rel=\"nofollow noopener\" role=\"button\" tabindex=\"0\" target=\"_blank\" title=\"Twitter\"><svg class=\"ipc-icon ipc-icon--twitter\" fill=\"currentColor\" height=\"24\" role=\"presentation\" viewbox=\"0 0 24 24\" width=\"24\" xmlns=\"http://www.w3.org/2000/svg\"><path d=\"M18.382 2.074h3.372l-7.404 8.43L23 21.942h-6.788l-5.315-6.95-6.085 6.95H1.44l7.844-9.017L1 2.074h6.957l4.802 6.349 5.623-6.349zm-1.18 17.887h1.869L6.975 3.98H4.966l12.235 15.981z\"></path></svg></a></li><li class=\"ipc-inline-list__item\" role=\"presentation\"><a aria-disabled=\"false\" aria-label=\"YouTube\" class=\"ipc-icon-link ipc-icon-link--baseAlt ipc-icon-link--onBase\" href=\"https://youtube.com/imdb/\" rel=\"nofollow noopener\" role=\"button\" tabindex=\"0\" target=\"_blank\" title=\"YouTube\"><svg class=\"ipc-icon ipc-icon--youtube\" fill=\"currentColor\" height=\"24\" role=\"presentation\" viewbox=\"0 0 24 24\" width=\"24\" xmlns=\"http://www.w3.org/2000/svg\"><path d=\"M9.955 14.955v-5.91L15.182 12l-5.227 2.955zm11.627-7.769a2.505 2.505 0 0 0-1.768-1.768C18.254 5 12 5 12 5s-6.254 0-7.814.418c-.86.23-1.538.908-1.768 1.768C2 8.746 2 12 2 12s0 3.254.418 4.814c.23.86.908 1.538 1.768 1.768C5.746 19 12 19 12 19s6.254 0 7.814-.418a2.505 2.505 0 0 0 1.768-1.768C22 15.254 22 12 22 12s0-3.254-.418-4.814z\"></path></svg></a></li><li class=\"ipc-inline-list__item\" role=\"presentation\"><a aria-disabled=\"false\" aria-label=\"Facebook\" class=\"ipc-icon-link ipc-icon-link--baseAlt ipc-icon-link--onBase\" href=\"https://facebook.com/imdb\" rel=\"nofollow noopener\" role=\"button\" tabindex=\"0\" target=\"_blank\" title=\"Facebook\"><svg class=\"ipc-icon ipc-icon--facebook\" fill=\"currentColor\" height=\"24\" role=\"presentation\" viewbox=\"0 0 24 24\" width=\"24\" xmlns=\"http://www.w3.org/2000/svg\"><path d=\"M20.896 2H3.104C2.494 2 2 2.494 2 3.104v17.792C2 21.506 2.494 22 3.104 22h9.579v-7.745h-2.607v-3.018h2.607V9.01c0-2.584 1.577-3.99 3.882-3.99 1.104 0 2.052.082 2.329.119v2.7h-1.598c-1.254 0-1.496.595-1.496 1.47v1.927h2.989l-.39 3.018h-2.6V22h5.097c.61 0 1.104-.494 1.104-1.104V3.104C22 2.494 21.506 2 20.896 2\"></path></svg></a></li></ul>,\n",
       " <ul class=\"ipc-inline-list footer__linksRow baseAlt\" role=\"presentation\"><li class=\"ipc-inline-list__item\" role=\"presentation\"><a aria-disabled=\"false\" aria-label=\"TikTok\" class=\"ipc-icon-link ipc-icon-link--baseAlt ipc-icon-link--onBase\" href=\"https://www.tiktok.com/@imdb\" rel=\"nofollow noopener\" role=\"button\" tabindex=\"0\" target=\"_blank\" title=\"TikTok\"><svg class=\"ipc-icon ipc-icon--tiktok\" fill=\"currentColor\" height=\"24\" role=\"presentation\" viewbox=\"0 0 24 24\" width=\"24\" xmlns=\"http://www.w3.org/2000/svg\"><path d=\"M15.2346 3C15.5316 5.55428 16.9572 7.07713 19.4359 7.23914V10.112C17.9995 10.2524 16.7412 9.78262 15.2778 8.89699V14.2702C15.2778 21.096 7.83633 23.2291 4.84463 18.3365C2.92217 15.1882 4.09941 9.66382 10.2664 9.44241V12.4719C9.7966 12.5475 9.29438 12.6663 8.83536 12.8229C7.46372 13.2873 6.68609 14.1568 6.9021 15.6904C7.31791 18.6281 12.7073 19.4975 12.2591 13.7571V3.0054H15.2346V3Z\"></path></svg></a></li><li class=\"ipc-inline-list__item\" role=\"presentation\"><a aria-disabled=\"false\" aria-label=\"Instagram\" class=\"ipc-icon-link ipc-icon-link--baseAlt ipc-icon-link--onBase\" href=\"https://instagram.com/imdb\" rel=\"nofollow noopener\" role=\"button\" tabindex=\"0\" target=\"_blank\" title=\"Instagram\"><svg class=\"ipc-icon ipc-icon--instagram\" fill=\"currentColor\" height=\"24\" role=\"presentation\" viewbox=\"0 0 24 24\" width=\"24\" xmlns=\"http://www.w3.org/2000/svg\"><path d=\"M11.997 2.04c-2.715 0-3.056.011-4.122.06-1.064.048-1.79.217-2.426.463a4.901 4.901 0 0 0-1.771 1.151 4.89 4.89 0 0 0-1.153 1.767c-.247.635-.416 1.36-.465 2.422C2.011 8.967 2 9.307 2 12.017s.011 3.049.06 4.113c.049 1.062.218 1.787.465 2.422a4.89 4.89 0 0 0 1.153 1.767 4.901 4.901 0 0 0 1.77 1.15c.636.248 1.363.416 2.427.465 1.066.048 1.407.06 4.122.06s3.055-.012 4.122-.06c1.064-.049 1.79-.217 2.426-.464a4.901 4.901 0 0 0 1.77-1.15 4.89 4.89 0 0 0 1.154-1.768c.247-.635.416-1.36.465-2.422.048-1.064.06-1.404.06-4.113 0-2.71-.012-3.05-.06-4.114-.049-1.062-.218-1.787-.465-2.422a4.89 4.89 0 0 0-1.153-1.767 4.901 4.901 0 0 0-1.77-1.15c-.637-.247-1.363-.416-2.427-.464-1.067-.049-1.407-.06-4.122-.06m0 1.797c2.67 0 2.985.01 4.04.058.974.045 1.503.207 1.856.344.466.181.8.397 1.15.746.349.35.566.682.747 1.147.137.352.3.88.344 1.853.048 1.052.058 1.368.058 4.032 0 2.664-.01 2.98-.058 4.031-.044.973-.207 1.501-.344 1.853a3.09 3.09 0 0 1-.748 1.147c-.35.35-.683.565-1.15.746-.352.137-.88.3-1.856.344-1.054.048-1.37.058-4.04.058-2.669 0-2.985-.01-4.039-.058-.974-.044-1.504-.207-1.856-.344a3.098 3.098 0 0 1-1.15-.746 3.09 3.09 0 0 1-.747-1.147c-.137-.352-.3-.88-.344-1.853-.049-1.052-.059-1.367-.059-4.031 0-2.664.01-2.98.059-4.032.044-.973.207-1.501.344-1.853a3.09 3.09 0 0 1 .748-1.147c.35-.349.682-.565 1.149-.746.352-.137.882-.3 1.856-.344 1.054-.048 1.37-.058 4.04-.058\"></path><path d=\"M11.997 15.342a3.329 3.329 0 0 1-3.332-3.325 3.329 3.329 0 0 1 3.332-3.326 3.329 3.329 0 0 1 3.332 3.326 3.329 3.329 0 0 1-3.332 3.325m0-8.449a5.128 5.128 0 0 0-5.134 5.124 5.128 5.128 0 0 0 5.134 5.123 5.128 5.128 0 0 0 5.133-5.123 5.128 5.128 0 0 0-5.133-5.124m6.536-.203c0 .662-.537 1.198-1.2 1.198a1.198 1.198 0 1 1 1.2-1.197\"></path></svg></a></li><li class=\"ipc-inline-list__item\" role=\"presentation\"><a aria-disabled=\"false\" aria-label=\"Twitter\" class=\"ipc-icon-link ipc-icon-link--baseAlt ipc-icon-link--onBase\" href=\"https://twitter.com/imdb\" rel=\"nofollow noopener\" role=\"button\" tabindex=\"0\" target=\"_blank\" title=\"Twitter\"><svg class=\"ipc-icon ipc-icon--twitter\" fill=\"currentColor\" height=\"24\" role=\"presentation\" viewbox=\"0 0 24 24\" width=\"24\" xmlns=\"http://www.w3.org/2000/svg\"><path d=\"M18.382 2.074h3.372l-7.404 8.43L23 21.942h-6.788l-5.315-6.95-6.085 6.95H1.44l7.844-9.017L1 2.074h6.957l4.802 6.349 5.623-6.349zm-1.18 17.887h1.869L6.975 3.98H4.966l12.235 15.981z\"></path></svg></a></li><li class=\"ipc-inline-list__item\" role=\"presentation\"><a aria-disabled=\"false\" aria-label=\"YouTube\" class=\"ipc-icon-link ipc-icon-link--baseAlt ipc-icon-link--onBase\" href=\"https://youtube.com/imdb/\" rel=\"nofollow noopener\" role=\"button\" tabindex=\"0\" target=\"_blank\" title=\"YouTube\"><svg class=\"ipc-icon ipc-icon--youtube\" fill=\"currentColor\" height=\"24\" role=\"presentation\" viewbox=\"0 0 24 24\" width=\"24\" xmlns=\"http://www.w3.org/2000/svg\"><path d=\"M9.955 14.955v-5.91L15.182 12l-5.227 2.955zm11.627-7.769a2.505 2.505 0 0 0-1.768-1.768C18.254 5 12 5 12 5s-6.254 0-7.814.418c-.86.23-1.538.908-1.768 1.768C2 8.746 2 12 2 12s0 3.254.418 4.814c.23.86.908 1.538 1.768 1.768C5.746 19 12 19 12 19s6.254 0 7.814-.418a2.505 2.505 0 0 0 1.768-1.768C22 15.254 22 12 22 12s0-3.254-.418-4.814z\"></path></svg></a></li><li class=\"ipc-inline-list__item\" role=\"presentation\"><a aria-disabled=\"false\" aria-label=\"Facebook\" class=\"ipc-icon-link ipc-icon-link--baseAlt ipc-icon-link--onBase\" href=\"https://facebook.com/imdb\" rel=\"nofollow noopener\" role=\"button\" tabindex=\"0\" target=\"_blank\" title=\"Facebook\"><svg class=\"ipc-icon ipc-icon--facebook\" fill=\"currentColor\" height=\"24\" role=\"presentation\" viewbox=\"0 0 24 24\" width=\"24\" xmlns=\"http://www.w3.org/2000/svg\"><path d=\"M20.896 2H3.104C2.494 2 2 2.494 2 3.104v17.792C2 21.506 2.494 22 3.104 22h9.579v-7.745h-2.607v-3.018h2.607V9.01c0-2.584 1.577-3.99 3.882-3.99 1.104 0 2.052.082 2.329.119v2.7h-1.598c-1.254 0-1.496.595-1.496 1.47v1.927h2.989l-.39 3.018h-2.6V22h5.097c.61 0 1.104-.494 1.104-1.104V3.104C22 2.494 21.506 2 20.896 2\"></path></svg></a></li></ul>,\n",
       " <ul class=\"ipc-inline-list footer__linksRow baseAlt\" role=\"presentation\"><li class=\"ipc-inline-list__item\" role=\"presentation\"><a aria-disabled=\"false\" class=\"ipc-link ipc-link--baseAlt ipc-link--touch-target ipc-link--inherit-color\" href=\"https://help.imdb.com/imdb\" role=\"button\" tabindex=\"0\" target=\"_blank\">Help<svg class=\"ipc-icon ipc-icon--launch-inline ipc-icon--inline ipc-link__launch-icon\" fill=\"currentColor\" height=\"24\" role=\"presentation\" viewbox=\"0 0 24 24\" width=\"24\" xmlns=\"http://www.w3.org/2000/svg\"><path d=\"M21.6 21.6H2.4V2.4h7.2V0H0v24h24v-9.6h-2.4v7.2zM14.4 0v2.4h4.8L7.195 14.49l2.4 2.4L21.6 4.8v4.8H24V0h-9.6z\"></path></svg></a></li><li class=\"ipc-inline-list__item\" role=\"presentation\"><a aria-disabled=\"false\" class=\"ipc-link ipc-link--baseAlt ipc-link--touch-target ipc-link--inherit-color\" href=\"https://help.imdb.com/article/imdb/general-information/imdb-site-index/GNCX7BHNSPBTFALQ#so\" role=\"button\" tabindex=\"0\" target=\"_blank\">Site Index<svg class=\"ipc-icon ipc-icon--launch-inline ipc-icon--inline ipc-link__launch-icon\" fill=\"currentColor\" height=\"24\" role=\"presentation\" viewbox=\"0 0 24 24\" width=\"24\" xmlns=\"http://www.w3.org/2000/svg\"><path d=\"M21.6 21.6H2.4V2.4h7.2V0H0v24h24v-9.6h-2.4v7.2zM14.4 0v2.4h4.8L7.195 14.49l2.4 2.4L21.6 4.8v4.8H24V0h-9.6z\"></path></svg></a></li><li class=\"ipc-inline-list__item\" role=\"presentation\"><a aria-disabled=\"false\" class=\"ipc-link ipc-link--baseAlt ipc-link--touch-target ipc-link--inherit-color\" href=\"https://pro.imdb.com?ref_=cons_tf_pro&amp;rf=cons_tf_pro\" role=\"button\" tabindex=\"0\" target=\"_blank\">IMDbPro<svg class=\"ipc-icon ipc-icon--launch-inline ipc-icon--inline ipc-link__launch-icon\" fill=\"currentColor\" height=\"24\" role=\"presentation\" viewbox=\"0 0 24 24\" width=\"24\" xmlns=\"http://www.w3.org/2000/svg\"><path d=\"M21.6 21.6H2.4V2.4h7.2V0H0v24h24v-9.6h-2.4v7.2zM14.4 0v2.4h4.8L7.195 14.49l2.4 2.4L21.6 4.8v4.8H24V0h-9.6z\"></path></svg></a></li><li class=\"ipc-inline-list__item\" role=\"presentation\"><a aria-disabled=\"false\" class=\"ipc-link ipc-link--baseAlt ipc-link--touch-target ipc-link--inherit-color\" href=\"https://www.boxofficemojo.com\" role=\"button\" tabindex=\"0\" target=\"_blank\">Box Office Mojo<svg class=\"ipc-icon ipc-icon--launch-inline ipc-icon--inline ipc-link__launch-icon\" fill=\"currentColor\" height=\"24\" role=\"presentation\" viewbox=\"0 0 24 24\" width=\"24\" xmlns=\"http://www.w3.org/2000/svg\"><path d=\"M21.6 21.6H2.4V2.4h7.2V0H0v24h24v-9.6h-2.4v7.2zM14.4 0v2.4h4.8L7.195 14.49l2.4 2.4L21.6 4.8v4.8H24V0h-9.6z\"></path></svg></a></li><li class=\"ipc-inline-list__item\" role=\"presentation\"><a aria-disabled=\"false\" class=\"ipc-link ipc-link--baseAlt ipc-link--touch-target ipc-link--inherit-color\" href=\"https://developer.imdb.com/\" role=\"button\" tabindex=\"0\" target=\"_blank\">License IMDb Data<svg class=\"ipc-icon ipc-icon--launch-inline ipc-icon--inline ipc-link__launch-icon\" fill=\"currentColor\" height=\"24\" role=\"presentation\" viewbox=\"0 0 24 24\" width=\"24\" xmlns=\"http://www.w3.org/2000/svg\"><path d=\"M21.6 21.6H2.4V2.4h7.2V0H0v24h24v-9.6h-2.4v7.2zM14.4 0v2.4h4.8L7.195 14.49l2.4 2.4L21.6 4.8v4.8H24V0h-9.6z\"></path></svg></a></li></ul>,\n",
       " <ul class=\"ipc-inline-list footer__linksRow baseAlt\" role=\"presentation\"><li class=\"ipc-inline-list__item\" role=\"presentation\"><a aria-disabled=\"false\" class=\"ipc-link ipc-link--baseAlt ipc-link--touch-target ipc-link--inherit-color\" href=\"https://www.imdb.com/pressroom/?ref_=ft_pr\" role=\"button\" tabindex=\"0\">Press Room</a></li><li class=\"ipc-inline-list__item\" role=\"presentation\"><a aria-disabled=\"false\" class=\"ipc-link ipc-link--baseAlt ipc-link--touch-target ipc-link--inherit-color\" href=\"https://advertising.amazon.com/resources/ad-specs/imdb/\" role=\"button\" tabindex=\"0\" target=\"_blank\">Advertising<svg class=\"ipc-icon ipc-icon--launch-inline ipc-icon--inline ipc-link__launch-icon\" fill=\"currentColor\" height=\"24\" role=\"presentation\" viewbox=\"0 0 24 24\" width=\"24\" xmlns=\"http://www.w3.org/2000/svg\"><path d=\"M21.6 21.6H2.4V2.4h7.2V0H0v24h24v-9.6h-2.4v7.2zM14.4 0v2.4h4.8L7.195 14.49l2.4 2.4L21.6 4.8v4.8H24V0h-9.6z\"></path></svg></a></li><li class=\"ipc-inline-list__item\" role=\"presentation\"><a aria-disabled=\"false\" class=\"ipc-link ipc-link--baseAlt ipc-link--touch-target ipc-link--inherit-color\" href=\"https://www.amazon.jobs/en/teams/imdb\" role=\"button\" tabindex=\"0\" target=\"_blank\">Jobs<svg class=\"ipc-icon ipc-icon--launch-inline ipc-icon--inline ipc-link__launch-icon\" fill=\"currentColor\" height=\"24\" role=\"presentation\" viewbox=\"0 0 24 24\" width=\"24\" xmlns=\"http://www.w3.org/2000/svg\"><path d=\"M21.6 21.6H2.4V2.4h7.2V0H0v24h24v-9.6h-2.4v7.2zM14.4 0v2.4h4.8L7.195 14.49l2.4 2.4L21.6 4.8v4.8H24V0h-9.6z\"></path></svg></a></li><li class=\"ipc-inline-list__item\" role=\"presentation\"><a aria-disabled=\"false\" class=\"ipc-link ipc-link--baseAlt ipc-link--touch-target ipc-link--inherit-color\" href=\"/conditions?ref_=ft_cou\" role=\"button\" tabindex=\"0\">Conditions of Use</a></li><li class=\"ipc-inline-list__item\" role=\"presentation\"><a aria-disabled=\"false\" class=\"ipc-link ipc-link--baseAlt ipc-link--touch-target ipc-link--inherit-color\" href=\"/privacy?ref_=ft_pvc\" role=\"button\" tabindex=\"0\">Privacy Policy</a></li><li class=\"ipc-inline-list__item\" role=\"presentation\"><div class=\"sc-hBMVwJ jwNagF\"><a aria-label=\"Your Ads Privacy Choices\" class=\"sc-fnVZQs kkBjoD\" href=\"/privacy/redirect/?ref_=ft_redir\"><svg class=\"sc-ksltVi jJgJDZ\" id=\"Layer_1\" version=\"1.1\" viewbox=\"0 0 30 14\" x=\"0px\" xmlns=\"http://www.w3.org/2000/svg\" y=\"0px\"><g><g id=\"final---dec.11-2020_1_\"><g id=\"_x30_208-our-toggle_2_\" transform=\"translate(-1275.000000, -200.000000)\"><g id=\"Final-Copy-2_2_\" transform=\"translate(1275.000000, 200.000000)\"><path class=\"st0\" d=\"M7.4,12.8h6.8l3.1-11.6H7.4C4.2,1.2,1.6,3.8,1.6,7S4.2,12.8,7.4,12.8z\"></path></g></g></g><g id=\"final---dec.11-2020\"><g id=\"_x30_208-our-toggle\" transform=\"translate(-1275.000000, -200.000000)\"><g id=\"Final-Copy-2\" transform=\"translate(1275.000000, 200.000000)\"><path class=\"st1\" d=\"M22.6,0H7.4c-3.9,0-7,3.1-7,7s3.1,7,7,7h15.2c3.9,0,7-3.1,7-7S26.4,0,22.6,0z M1.6,7c0-3.2,2.6-5.8,5.8-5.8\n",
       "                             h9.9l-3.1,11.6H7.4C4.2,12.8,1.6,10.2,1.6,7z\"></path><path class=\"st2\" d=\"M24.6,4c0.2,0.2,0.2,0.6,0,0.8l0,0L22.5,7l2.2,2.2c0.2,0.2,0.2,0.6,0,0.8c-0.2,0.2-0.6,0.2-0.8,0\n",
       "                             l0,0l-2.2-2.2L19.5,10c-0.2,0.2-0.6,0.2-0.8,0c-0.2-0.2-0.2-0.6,0-0.8l0,0L20.8,7l-2.2-2.2c-0.2-0.2-0.2-0.6,0-0.8\n",
       "                             c0.2-0.2,0.6-0.2,0.8,0l0,0l2.2,2.2L23.8,4C24,3.8,24.4,3.8,24.6,4z\" id=\"x\"></path><path class=\"st3\" d=\"M12.7,4.1c0.2,0.2,0.3,0.6,0.1,0.8l0,0L8.6,9.8C8.5,9.9,8.4,10,8.3,10c-0.2,0.1-0.5,0.1-0.7-0.1l0,0\n",
       "                             L5.4,7.7c-0.2-0.2-0.2-0.6,0-0.8c0.2-0.2,0.6-0.2,0.8,0l0,0L8,8.6l3.8-4.5C12,3.9,12.4,3.9,12.7,4.1z\" id=\"y\"></path></g></g></g></g></svg></a><a aria-disabled=\"false\" class=\"ipc-link ipc-link--baseAlt ipc-link--touch-target ipc-link--inherit-color\" href=\"/privacy/redirect/?ref_=ft_redir\" role=\"button\" tabindex=\"0\">Your Ads Privacy Choices</a></div></li></ul>]"
      ]
     },
     "execution_count": 90,
     "metadata": {},
     "output_type": "execute_result"
    }
   ],
   "source": [
    "test.find_all('ul')"
   ]
  }
 ],
 "metadata": {
  "kernelspec": {
   "display_name": "Python 3",
   "language": "python",
   "name": "python3"
  },
  "language_info": {
   "codemirror_mode": {
    "name": "ipython",
    "version": 3
   },
   "file_extension": ".py",
   "mimetype": "text/x-python",
   "name": "python",
   "nbconvert_exporter": "python",
   "pygments_lexer": "ipython3",
   "version": "3.12.4"
  }
 },
 "nbformat": 4,
 "nbformat_minor": 2
}
